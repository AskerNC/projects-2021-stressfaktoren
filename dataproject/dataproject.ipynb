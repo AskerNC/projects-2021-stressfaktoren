{
 "cells": [
  {
   "cell_type": "markdown",
   "metadata": {},
   "source": [
    "# YOUR PROJECT TITLE"
   ]
  },
  {
   "cell_type": "markdown",
   "metadata": {},
   "source": [
    "> **Note the following:** \n",
    "> 1. This is *not* meant to be an example of an actual **data analysis project**, just an example of how to structure such a project.\n",
    "> 1. Remember the general advice on structuring and commenting your code from [lecture 5](https://numeconcopenhagen.netlify.com/lectures/Workflow_and_debugging).\n",
    "> 1. Remember this [guide](https://www.markdownguide.org/basic-syntax/) on markdown and (a bit of) latex.\n",
    "> 1. Turn on automatic numbering by clicking on the small icon on top of the table of contents in the left sidebar.\n",
    "> 1. The `dataproject.py` file includes a function which will be used multiple times in this notebook."
   ]
  },
  {
   "cell_type": "markdown",
   "metadata": {},
   "source": [
    "Imports and set magics:"
   ]
  },
  {
   "cell_type": "code",
   "execution_count": 44,
   "metadata": {},
   "outputs": [],
   "source": [
    "import numpy as np\n",
    "import matplotlib.pyplot as plt\n",
    "plt.style.use('seaborn')\n",
    "import pandas as pd\n",
    "import ipywidgets as widgets\n",
    "from ipywidgets import interact, interactive, fixed, interact_manual\n",
    "import seaborn as sb #Graphical package\n",
    "from pylab import *\n",
    "from matplotlib.font_manager import FontProperties\n",
    "import os\n",
    "\n",
    "\n",
    "# Local modules\n",
    "import dataproject\n",
    "\n"
   ]
  },
  {
   "cell_type": "markdown",
   "metadata": {},
   "source": [
    "# Read and clean data"
   ]
  },
  {
   "cell_type": "markdown",
   "metadata": {},
   "source": [
    "## Employment data"
   ]
  },
  {
   "cell_type": "markdown",
   "metadata": {},
   "source": [
    "**Read the employment data** in ``RAS200.xlsx`` and **clean it** removing and renaming columns:"
   ]
  },
  {
   "cell_type": "code",
   "execution_count": 45,
   "metadata": {},
   "outputs": [
    {
     "output_type": "execute_result",
     "data": {
      "text/plain": [
       "                        Region   1992   1993   1994   1995   1996   1997  \\\n",
       "0           Region Hovedstaden  23687  22598  23582  24737  25021  25514   \n",
       "1      Landsdel Byen København  24572  23756  25208  26219  26517  26641   \n",
       "2    Landsdel Københavns omegn  23849  22637  23288  24545  24718  25254   \n",
       "3        Landsdel Nordsjælland  22796  21666  22400  23610  24122  24954   \n",
       "4            Landsdel Bornholm  23330  21485  24055  24744  23824  23836   \n",
       "..                         ...    ...    ...    ...    ...    ...    ...   \n",
       "203         Region Midtjylland   1751   1795   2335   2558   2849   2925   \n",
       "204        Landsdel Østjylland   1745   1829   2453   2504   2783   2689   \n",
       "205       Landsdel Vestjylland   1760   1738   2129   2651   2964   3338   \n",
       "206         Region Nordjylland   1205   1273   1868   2032   2433   2511   \n",
       "207       Landsdel Nordjylland   1205   1273   1868   2032   2433   2511   \n",
       "\n",
       "      1998   1999   2000  ...   2010   2011   2012   2013   2014   2015  \\\n",
       "0    26492  27012  27197  ...  21770  21294  20786  20828  20790  20940   \n",
       "1    27629  27786  27817  ...  21845  21156  20484  20779  20814  20865   \n",
       "2    26228  27396  27692  ...  21705  21323  20950  20809  20188  20288   \n",
       "3    26104  26227  26436  ...  21413  20947  20474  20473  20794  21077   \n",
       "4    23327  23652  23734  ...  25769  26378  25801  26101  28579  29253   \n",
       "..     ...    ...    ...  ...    ...    ...    ...    ...    ...    ...   \n",
       "203   3217   3216   2995  ...   4490   5335   6368   7552   7613   9440   \n",
       "204   3219   3265   2887  ...   4526   5737   6577   8043   8442  10558   \n",
       "205   3212   3131   3186  ...   4429   4653   6013   6713   6195   7531   \n",
       "206   2570   2142   2649  ...   2963   4120   4295   5390   5769   6469   \n",
       "207   2570   2142   2649  ...   2963   4120   4295   5390   5769   6469   \n",
       "\n",
       "      2016   2017   2018   2019  \n",
       "0    21493  22322  23183  23696  \n",
       "1    20686  21554  22024  22658  \n",
       "2    21421  22093  23020  23468  \n",
       "3    21649  22549  23711  24192  \n",
       "4    31359  33617  35205  36054  \n",
       "..     ...    ...    ...    ...  \n",
       "203   9249  10505  12702  12394  \n",
       "204  10067  11427  13139  13429  \n",
       "205   7855   8941  11958  10614  \n",
       "206   7132   8928   7747   9894  \n",
       "207   7132   8928   7747   9894  \n",
       "\n",
       "[208 rows x 29 columns]"
      ],
      "text/html": "<div>\n<style scoped>\n    .dataframe tbody tr th:only-of-type {\n        vertical-align: middle;\n    }\n\n    .dataframe tbody tr th {\n        vertical-align: top;\n    }\n\n    .dataframe thead th {\n        text-align: right;\n    }\n</style>\n<table border=\"1\" class=\"dataframe\">\n  <thead>\n    <tr style=\"text-align: right;\">\n      <th></th>\n      <th>Region</th>\n      <th>1992</th>\n      <th>1993</th>\n      <th>1994</th>\n      <th>1995</th>\n      <th>1996</th>\n      <th>1997</th>\n      <th>1998</th>\n      <th>1999</th>\n      <th>2000</th>\n      <th>...</th>\n      <th>2010</th>\n      <th>2011</th>\n      <th>2012</th>\n      <th>2013</th>\n      <th>2014</th>\n      <th>2015</th>\n      <th>2016</th>\n      <th>2017</th>\n      <th>2018</th>\n      <th>2019</th>\n    </tr>\n  </thead>\n  <tbody>\n    <tr>\n      <th>0</th>\n      <td>Region Hovedstaden</td>\n      <td>23687</td>\n      <td>22598</td>\n      <td>23582</td>\n      <td>24737</td>\n      <td>25021</td>\n      <td>25514</td>\n      <td>26492</td>\n      <td>27012</td>\n      <td>27197</td>\n      <td>...</td>\n      <td>21770</td>\n      <td>21294</td>\n      <td>20786</td>\n      <td>20828</td>\n      <td>20790</td>\n      <td>20940</td>\n      <td>21493</td>\n      <td>22322</td>\n      <td>23183</td>\n      <td>23696</td>\n    </tr>\n    <tr>\n      <th>1</th>\n      <td>Landsdel Byen København</td>\n      <td>24572</td>\n      <td>23756</td>\n      <td>25208</td>\n      <td>26219</td>\n      <td>26517</td>\n      <td>26641</td>\n      <td>27629</td>\n      <td>27786</td>\n      <td>27817</td>\n      <td>...</td>\n      <td>21845</td>\n      <td>21156</td>\n      <td>20484</td>\n      <td>20779</td>\n      <td>20814</td>\n      <td>20865</td>\n      <td>20686</td>\n      <td>21554</td>\n      <td>22024</td>\n      <td>22658</td>\n    </tr>\n    <tr>\n      <th>2</th>\n      <td>Landsdel Københavns omegn</td>\n      <td>23849</td>\n      <td>22637</td>\n      <td>23288</td>\n      <td>24545</td>\n      <td>24718</td>\n      <td>25254</td>\n      <td>26228</td>\n      <td>27396</td>\n      <td>27692</td>\n      <td>...</td>\n      <td>21705</td>\n      <td>21323</td>\n      <td>20950</td>\n      <td>20809</td>\n      <td>20188</td>\n      <td>20288</td>\n      <td>21421</td>\n      <td>22093</td>\n      <td>23020</td>\n      <td>23468</td>\n    </tr>\n    <tr>\n      <th>3</th>\n      <td>Landsdel Nordsjælland</td>\n      <td>22796</td>\n      <td>21666</td>\n      <td>22400</td>\n      <td>23610</td>\n      <td>24122</td>\n      <td>24954</td>\n      <td>26104</td>\n      <td>26227</td>\n      <td>26436</td>\n      <td>...</td>\n      <td>21413</td>\n      <td>20947</td>\n      <td>20474</td>\n      <td>20473</td>\n      <td>20794</td>\n      <td>21077</td>\n      <td>21649</td>\n      <td>22549</td>\n      <td>23711</td>\n      <td>24192</td>\n    </tr>\n    <tr>\n      <th>4</th>\n      <td>Landsdel Bornholm</td>\n      <td>23330</td>\n      <td>21485</td>\n      <td>24055</td>\n      <td>24744</td>\n      <td>23824</td>\n      <td>23836</td>\n      <td>23327</td>\n      <td>23652</td>\n      <td>23734</td>\n      <td>...</td>\n      <td>25769</td>\n      <td>26378</td>\n      <td>25801</td>\n      <td>26101</td>\n      <td>28579</td>\n      <td>29253</td>\n      <td>31359</td>\n      <td>33617</td>\n      <td>35205</td>\n      <td>36054</td>\n    </tr>\n    <tr>\n      <th>...</th>\n      <td>...</td>\n      <td>...</td>\n      <td>...</td>\n      <td>...</td>\n      <td>...</td>\n      <td>...</td>\n      <td>...</td>\n      <td>...</td>\n      <td>...</td>\n      <td>...</td>\n      <td>...</td>\n      <td>...</td>\n      <td>...</td>\n      <td>...</td>\n      <td>...</td>\n      <td>...</td>\n      <td>...</td>\n      <td>...</td>\n      <td>...</td>\n      <td>...</td>\n      <td>...</td>\n    </tr>\n    <tr>\n      <th>203</th>\n      <td>Region Midtjylland</td>\n      <td>1751</td>\n      <td>1795</td>\n      <td>2335</td>\n      <td>2558</td>\n      <td>2849</td>\n      <td>2925</td>\n      <td>3217</td>\n      <td>3216</td>\n      <td>2995</td>\n      <td>...</td>\n      <td>4490</td>\n      <td>5335</td>\n      <td>6368</td>\n      <td>7552</td>\n      <td>7613</td>\n      <td>9440</td>\n      <td>9249</td>\n      <td>10505</td>\n      <td>12702</td>\n      <td>12394</td>\n    </tr>\n    <tr>\n      <th>204</th>\n      <td>Landsdel Østjylland</td>\n      <td>1745</td>\n      <td>1829</td>\n      <td>2453</td>\n      <td>2504</td>\n      <td>2783</td>\n      <td>2689</td>\n      <td>3219</td>\n      <td>3265</td>\n      <td>2887</td>\n      <td>...</td>\n      <td>4526</td>\n      <td>5737</td>\n      <td>6577</td>\n      <td>8043</td>\n      <td>8442</td>\n      <td>10558</td>\n      <td>10067</td>\n      <td>11427</td>\n      <td>13139</td>\n      <td>13429</td>\n    </tr>\n    <tr>\n      <th>205</th>\n      <td>Landsdel Vestjylland</td>\n      <td>1760</td>\n      <td>1738</td>\n      <td>2129</td>\n      <td>2651</td>\n      <td>2964</td>\n      <td>3338</td>\n      <td>3212</td>\n      <td>3131</td>\n      <td>3186</td>\n      <td>...</td>\n      <td>4429</td>\n      <td>4653</td>\n      <td>6013</td>\n      <td>6713</td>\n      <td>6195</td>\n      <td>7531</td>\n      <td>7855</td>\n      <td>8941</td>\n      <td>11958</td>\n      <td>10614</td>\n    </tr>\n    <tr>\n      <th>206</th>\n      <td>Region Nordjylland</td>\n      <td>1205</td>\n      <td>1273</td>\n      <td>1868</td>\n      <td>2032</td>\n      <td>2433</td>\n      <td>2511</td>\n      <td>2570</td>\n      <td>2142</td>\n      <td>2649</td>\n      <td>...</td>\n      <td>2963</td>\n      <td>4120</td>\n      <td>4295</td>\n      <td>5390</td>\n      <td>5769</td>\n      <td>6469</td>\n      <td>7132</td>\n      <td>8928</td>\n      <td>7747</td>\n      <td>9894</td>\n    </tr>\n    <tr>\n      <th>207</th>\n      <td>Landsdel Nordjylland</td>\n      <td>1205</td>\n      <td>1273</td>\n      <td>1868</td>\n      <td>2032</td>\n      <td>2433</td>\n      <td>2511</td>\n      <td>2570</td>\n      <td>2142</td>\n      <td>2649</td>\n      <td>...</td>\n      <td>2963</td>\n      <td>4120</td>\n      <td>4295</td>\n      <td>5390</td>\n      <td>5769</td>\n      <td>6469</td>\n      <td>7132</td>\n      <td>8928</td>\n      <td>7747</td>\n      <td>9894</td>\n    </tr>\n  </tbody>\n</table>\n<p>208 rows × 29 columns</p>\n</div>"
     },
     "metadata": {},
     "execution_count": 45
    }
   ],
   "source": [
    "wage = pd.read_excel('DST wage.xlsx', skiprows=2) #load data\n",
    "wage.head() # look at data\n",
    "drop_these = ['Unnamed: ' + str(num) for num in range (4)]\n",
    "wage.drop(drop_these, axis=1, inplace=True)\n",
    "wage.rename(columns = {'Unnamed: 4' : 'Region'}, inplace=True)#change name in first column\n",
    "wage.head(1000)\n",
    "\n"
   ]
  },
  {
   "cell_type": "markdown",
   "metadata": {},
   "source": [
    "The dataset now looks like this:"
   ]
  },
  {
   "cell_type": "code",
   "execution_count": 46,
   "metadata": {},
   "outputs": [
    {
     "output_type": "execute_result",
     "data": {
      "text/plain": [
       "                        Region  e1992  e1993  e1994  e1995  e1996  e1997  \\\n",
       "1      Landsdel Byen København  24572  23756  25208  26219  26517  26641   \n",
       "2    Landsdel Københavns omegn  23849  22637  23288  24545  24718  25254   \n",
       "3        Landsdel Nordsjælland  22796  21666  22400  23610  24122  24954   \n",
       "4            Landsdel Bornholm  23330  21485  24055  24744  23824  23836   \n",
       "6         Landsdel Østsjælland  24223  23029  24241  25048  25486  25918   \n",
       "..                         ...    ...    ...    ...    ...    ...    ...   \n",
       "201               Landsdel Fyn   1887   1904   2543   2422   2807   2869   \n",
       "202        Landsdel Sydjylland   1906   1663   2408   2434   2905   2954   \n",
       "204        Landsdel Østjylland   1745   1829   2453   2504   2783   2689   \n",
       "205       Landsdel Vestjylland   1760   1738   2129   2651   2964   3338   \n",
       "207       Landsdel Nordjylland   1205   1273   1868   2032   2433   2511   \n",
       "\n",
       "     e1998  e1999  e2000  ...  e2010  e2011  e2012  e2013  e2014  e2015  \\\n",
       "1    27629  27786  27817  ...  21845  21156  20484  20779  20814  20865   \n",
       "2    26228  27396  27692  ...  21705  21323  20950  20809  20188  20288   \n",
       "3    26104  26227  26436  ...  21413  20947  20474  20473  20794  21077   \n",
       "4    23327  23652  23734  ...  25769  26378  25801  26101  28579  29253   \n",
       "6    26947  26721  27071  ...  22541  21388  21040  20907  21318  21450   \n",
       "..     ...    ...    ...  ...    ...    ...    ...    ...    ...    ...   \n",
       "201   2795   2561   2541  ...   3657   4026   4084   6398   5005   5733   \n",
       "202   3038   2924   3338  ...   3358   4635   5139   5707   5786   5908   \n",
       "204   3219   3265   2887  ...   4526   5737   6577   8043   8442  10558   \n",
       "205   3212   3131   3186  ...   4429   4653   6013   6713   6195   7531   \n",
       "207   2570   2142   2649  ...   2963   4120   4295   5390   5769   6469   \n",
       "\n",
       "     e2016  e2017  e2018  e2019  \n",
       "1    20686  21554  22024  22658  \n",
       "2    21421  22093  23020  23468  \n",
       "3    21649  22549  23711  24192  \n",
       "4    31359  33617  35205  36054  \n",
       "6    21809  23132  24430  24323  \n",
       "..     ...    ...    ...    ...  \n",
       "201   5720   7914   7226  10672  \n",
       "202   5994   8105   8369   9472  \n",
       "204  10067  11427  13139  13429  \n",
       "205   7855   8941  11958  10614  \n",
       "207   7132   8928   7747   9894  \n",
       "\n",
       "[143 rows x 29 columns]"
      ],
      "text/html": "<div>\n<style scoped>\n    .dataframe tbody tr th:only-of-type {\n        vertical-align: middle;\n    }\n\n    .dataframe tbody tr th {\n        vertical-align: top;\n    }\n\n    .dataframe thead th {\n        text-align: right;\n    }\n</style>\n<table border=\"1\" class=\"dataframe\">\n  <thead>\n    <tr style=\"text-align: right;\">\n      <th></th>\n      <th>Region</th>\n      <th>e1992</th>\n      <th>e1993</th>\n      <th>e1994</th>\n      <th>e1995</th>\n      <th>e1996</th>\n      <th>e1997</th>\n      <th>e1998</th>\n      <th>e1999</th>\n      <th>e2000</th>\n      <th>...</th>\n      <th>e2010</th>\n      <th>e2011</th>\n      <th>e2012</th>\n      <th>e2013</th>\n      <th>e2014</th>\n      <th>e2015</th>\n      <th>e2016</th>\n      <th>e2017</th>\n      <th>e2018</th>\n      <th>e2019</th>\n    </tr>\n  </thead>\n  <tbody>\n    <tr>\n      <th>1</th>\n      <td>Landsdel Byen København</td>\n      <td>24572</td>\n      <td>23756</td>\n      <td>25208</td>\n      <td>26219</td>\n      <td>26517</td>\n      <td>26641</td>\n      <td>27629</td>\n      <td>27786</td>\n      <td>27817</td>\n      <td>...</td>\n      <td>21845</td>\n      <td>21156</td>\n      <td>20484</td>\n      <td>20779</td>\n      <td>20814</td>\n      <td>20865</td>\n      <td>20686</td>\n      <td>21554</td>\n      <td>22024</td>\n      <td>22658</td>\n    </tr>\n    <tr>\n      <th>2</th>\n      <td>Landsdel Københavns omegn</td>\n      <td>23849</td>\n      <td>22637</td>\n      <td>23288</td>\n      <td>24545</td>\n      <td>24718</td>\n      <td>25254</td>\n      <td>26228</td>\n      <td>27396</td>\n      <td>27692</td>\n      <td>...</td>\n      <td>21705</td>\n      <td>21323</td>\n      <td>20950</td>\n      <td>20809</td>\n      <td>20188</td>\n      <td>20288</td>\n      <td>21421</td>\n      <td>22093</td>\n      <td>23020</td>\n      <td>23468</td>\n    </tr>\n    <tr>\n      <th>3</th>\n      <td>Landsdel Nordsjælland</td>\n      <td>22796</td>\n      <td>21666</td>\n      <td>22400</td>\n      <td>23610</td>\n      <td>24122</td>\n      <td>24954</td>\n      <td>26104</td>\n      <td>26227</td>\n      <td>26436</td>\n      <td>...</td>\n      <td>21413</td>\n      <td>20947</td>\n      <td>20474</td>\n      <td>20473</td>\n      <td>20794</td>\n      <td>21077</td>\n      <td>21649</td>\n      <td>22549</td>\n      <td>23711</td>\n      <td>24192</td>\n    </tr>\n    <tr>\n      <th>4</th>\n      <td>Landsdel Bornholm</td>\n      <td>23330</td>\n      <td>21485</td>\n      <td>24055</td>\n      <td>24744</td>\n      <td>23824</td>\n      <td>23836</td>\n      <td>23327</td>\n      <td>23652</td>\n      <td>23734</td>\n      <td>...</td>\n      <td>25769</td>\n      <td>26378</td>\n      <td>25801</td>\n      <td>26101</td>\n      <td>28579</td>\n      <td>29253</td>\n      <td>31359</td>\n      <td>33617</td>\n      <td>35205</td>\n      <td>36054</td>\n    </tr>\n    <tr>\n      <th>6</th>\n      <td>Landsdel Østsjælland</td>\n      <td>24223</td>\n      <td>23029</td>\n      <td>24241</td>\n      <td>25048</td>\n      <td>25486</td>\n      <td>25918</td>\n      <td>26947</td>\n      <td>26721</td>\n      <td>27071</td>\n      <td>...</td>\n      <td>22541</td>\n      <td>21388</td>\n      <td>21040</td>\n      <td>20907</td>\n      <td>21318</td>\n      <td>21450</td>\n      <td>21809</td>\n      <td>23132</td>\n      <td>24430</td>\n      <td>24323</td>\n    </tr>\n    <tr>\n      <th>...</th>\n      <td>...</td>\n      <td>...</td>\n      <td>...</td>\n      <td>...</td>\n      <td>...</td>\n      <td>...</td>\n      <td>...</td>\n      <td>...</td>\n      <td>...</td>\n      <td>...</td>\n      <td>...</td>\n      <td>...</td>\n      <td>...</td>\n      <td>...</td>\n      <td>...</td>\n      <td>...</td>\n      <td>...</td>\n      <td>...</td>\n      <td>...</td>\n      <td>...</td>\n      <td>...</td>\n    </tr>\n    <tr>\n      <th>201</th>\n      <td>Landsdel Fyn</td>\n      <td>1887</td>\n      <td>1904</td>\n      <td>2543</td>\n      <td>2422</td>\n      <td>2807</td>\n      <td>2869</td>\n      <td>2795</td>\n      <td>2561</td>\n      <td>2541</td>\n      <td>...</td>\n      <td>3657</td>\n      <td>4026</td>\n      <td>4084</td>\n      <td>6398</td>\n      <td>5005</td>\n      <td>5733</td>\n      <td>5720</td>\n      <td>7914</td>\n      <td>7226</td>\n      <td>10672</td>\n    </tr>\n    <tr>\n      <th>202</th>\n      <td>Landsdel Sydjylland</td>\n      <td>1906</td>\n      <td>1663</td>\n      <td>2408</td>\n      <td>2434</td>\n      <td>2905</td>\n      <td>2954</td>\n      <td>3038</td>\n      <td>2924</td>\n      <td>3338</td>\n      <td>...</td>\n      <td>3358</td>\n      <td>4635</td>\n      <td>5139</td>\n      <td>5707</td>\n      <td>5786</td>\n      <td>5908</td>\n      <td>5994</td>\n      <td>8105</td>\n      <td>8369</td>\n      <td>9472</td>\n    </tr>\n    <tr>\n      <th>204</th>\n      <td>Landsdel Østjylland</td>\n      <td>1745</td>\n      <td>1829</td>\n      <td>2453</td>\n      <td>2504</td>\n      <td>2783</td>\n      <td>2689</td>\n      <td>3219</td>\n      <td>3265</td>\n      <td>2887</td>\n      <td>...</td>\n      <td>4526</td>\n      <td>5737</td>\n      <td>6577</td>\n      <td>8043</td>\n      <td>8442</td>\n      <td>10558</td>\n      <td>10067</td>\n      <td>11427</td>\n      <td>13139</td>\n      <td>13429</td>\n    </tr>\n    <tr>\n      <th>205</th>\n      <td>Landsdel Vestjylland</td>\n      <td>1760</td>\n      <td>1738</td>\n      <td>2129</td>\n      <td>2651</td>\n      <td>2964</td>\n      <td>3338</td>\n      <td>3212</td>\n      <td>3131</td>\n      <td>3186</td>\n      <td>...</td>\n      <td>4429</td>\n      <td>4653</td>\n      <td>6013</td>\n      <td>6713</td>\n      <td>6195</td>\n      <td>7531</td>\n      <td>7855</td>\n      <td>8941</td>\n      <td>11958</td>\n      <td>10614</td>\n    </tr>\n    <tr>\n      <th>207</th>\n      <td>Landsdel Nordjylland</td>\n      <td>1205</td>\n      <td>1273</td>\n      <td>1868</td>\n      <td>2032</td>\n      <td>2433</td>\n      <td>2511</td>\n      <td>2570</td>\n      <td>2142</td>\n      <td>2649</td>\n      <td>...</td>\n      <td>2963</td>\n      <td>4120</td>\n      <td>4295</td>\n      <td>5390</td>\n      <td>5769</td>\n      <td>6469</td>\n      <td>7132</td>\n      <td>8928</td>\n      <td>7747</td>\n      <td>9894</td>\n    </tr>\n  </tbody>\n</table>\n<p>143 rows × 29 columns</p>\n</div>"
     },
     "metadata": {},
     "execution_count": 46
    }
   ],
   "source": [
    "#Rename years\n",
    "col_dict = {}\n",
    "for i in range(1992, 2019+1): # range goes from 1992 to but not including 2020\n",
    "    col_dict[str(i)] = f'e{i}' \n",
    "col_dict\n",
    "wage.rename(columns = col_dict, inplace=True)\n",
    "#Build up a logical index I\n",
    "I = wage.Region.str.contains('Landsdel')\n",
    "wage.loc[I, :]"
   ]
  },
  {
   "cell_type": "markdown",
   "metadata": {},
   "source": [
    "**Remove all rows which are not municipalities**:"
   ]
  },
  {
   "cell_type": "code",
   "execution_count": 47,
   "metadata": {},
   "outputs": [
    {
     "output_type": "execute_result",
     "data": {
      "text/plain": [
       "                Region  e1992  e1993  e1994   e1995   e1996   e1997   e1998  \\\n",
       "0   Region Hovedstaden  23687  22598  23582   24737   25021   25514   26492   \n",
       "5      Region Sjælland  23257  22071  23031   23918   24249   24849   25424   \n",
       "8    Region Syddanmark  24296  23025  24617   26357   26015   26504   27260   \n",
       "11  Region Midtjylland  24563  23554  24865   26190   25877   26406   26729   \n",
       "14  Region Nordjylland  24161  23023  24239   25639   25585   26476   27340   \n",
       "16  Region Hovedstaden  83191  79425  83013   88858   91680   95165   99171   \n",
       "21     Region Sjælland  93431  90462  94567  100987  102974  106611  109860   \n",
       "24   Region Syddanmark  86796  84357  89916   96741   98599  102293  105881   \n",
       "27  Region Midtjylland  84702  81004  87362   93877   95311   98900  102367   \n",
       "30  Region Nordjylland  82865  79950  86968   93321   96287  100921  103321   \n",
       "\n",
       "     e1999   e2000  ...   e2010   e2011   e2012   e2013   e2014   e2015  \\\n",
       "0    27012   27197  ...   21770   21294   20786   20828   20790   20940   \n",
       "5    25383   25537  ...   22862   22588   21750   21734   22022   22283   \n",
       "8    26930   27096  ...   25284   24759   23539   23543   23786   23704   \n",
       "11   26589   26635  ...   24483   24059   23114   22865   23232   23394   \n",
       "14   26573   26152  ...   25798   25736   24546   24384   24645   24927   \n",
       "16  102325  104543  ...  103008   98725   95693   94311   95006   98420   \n",
       "21  112632  115299  ...  116165  110734  106321  103199  103154  107356   \n",
       "24  106832  108783  ...  112558  106496  102582   99530  101008  102501   \n",
       "27  103938  105050  ...  105842  101007   96112   94703   96316   98685   \n",
       "30  103645  103396  ...  108668  103679  100394   96738   95698   97025   \n",
       "\n",
       "     e2016   e2017   e2018   e2019  \n",
       "0    21493   22322   23183   23696  \n",
       "5    22506   23745   25497   26142  \n",
       "8    24361   25200   27351   28394  \n",
       "11   24050   25332   26409   26987  \n",
       "14   25294   26624   28398   29148  \n",
       "16  102466  105417  110673  113380  \n",
       "21  112388  117202  123914  127878  \n",
       "24  103696  108994  116271  119899  \n",
       "27  101736  106193  112243  115292  \n",
       "30  101203  104161  110649  113277  \n",
       "\n",
       "[10 rows x 29 columns]"
      ],
      "text/html": "<div>\n<style scoped>\n    .dataframe tbody tr th:only-of-type {\n        vertical-align: middle;\n    }\n\n    .dataframe tbody tr th {\n        vertical-align: top;\n    }\n\n    .dataframe thead th {\n        text-align: right;\n    }\n</style>\n<table border=\"1\" class=\"dataframe\">\n  <thead>\n    <tr style=\"text-align: right;\">\n      <th></th>\n      <th>Region</th>\n      <th>e1992</th>\n      <th>e1993</th>\n      <th>e1994</th>\n      <th>e1995</th>\n      <th>e1996</th>\n      <th>e1997</th>\n      <th>e1998</th>\n      <th>e1999</th>\n      <th>e2000</th>\n      <th>...</th>\n      <th>e2010</th>\n      <th>e2011</th>\n      <th>e2012</th>\n      <th>e2013</th>\n      <th>e2014</th>\n      <th>e2015</th>\n      <th>e2016</th>\n      <th>e2017</th>\n      <th>e2018</th>\n      <th>e2019</th>\n    </tr>\n  </thead>\n  <tbody>\n    <tr>\n      <th>0</th>\n      <td>Region Hovedstaden</td>\n      <td>23687</td>\n      <td>22598</td>\n      <td>23582</td>\n      <td>24737</td>\n      <td>25021</td>\n      <td>25514</td>\n      <td>26492</td>\n      <td>27012</td>\n      <td>27197</td>\n      <td>...</td>\n      <td>21770</td>\n      <td>21294</td>\n      <td>20786</td>\n      <td>20828</td>\n      <td>20790</td>\n      <td>20940</td>\n      <td>21493</td>\n      <td>22322</td>\n      <td>23183</td>\n      <td>23696</td>\n    </tr>\n    <tr>\n      <th>5</th>\n      <td>Region Sjælland</td>\n      <td>23257</td>\n      <td>22071</td>\n      <td>23031</td>\n      <td>23918</td>\n      <td>24249</td>\n      <td>24849</td>\n      <td>25424</td>\n      <td>25383</td>\n      <td>25537</td>\n      <td>...</td>\n      <td>22862</td>\n      <td>22588</td>\n      <td>21750</td>\n      <td>21734</td>\n      <td>22022</td>\n      <td>22283</td>\n      <td>22506</td>\n      <td>23745</td>\n      <td>25497</td>\n      <td>26142</td>\n    </tr>\n    <tr>\n      <th>8</th>\n      <td>Region Syddanmark</td>\n      <td>24296</td>\n      <td>23025</td>\n      <td>24617</td>\n      <td>26357</td>\n      <td>26015</td>\n      <td>26504</td>\n      <td>27260</td>\n      <td>26930</td>\n      <td>27096</td>\n      <td>...</td>\n      <td>25284</td>\n      <td>24759</td>\n      <td>23539</td>\n      <td>23543</td>\n      <td>23786</td>\n      <td>23704</td>\n      <td>24361</td>\n      <td>25200</td>\n      <td>27351</td>\n      <td>28394</td>\n    </tr>\n    <tr>\n      <th>11</th>\n      <td>Region Midtjylland</td>\n      <td>24563</td>\n      <td>23554</td>\n      <td>24865</td>\n      <td>26190</td>\n      <td>25877</td>\n      <td>26406</td>\n      <td>26729</td>\n      <td>26589</td>\n      <td>26635</td>\n      <td>...</td>\n      <td>24483</td>\n      <td>24059</td>\n      <td>23114</td>\n      <td>22865</td>\n      <td>23232</td>\n      <td>23394</td>\n      <td>24050</td>\n      <td>25332</td>\n      <td>26409</td>\n      <td>26987</td>\n    </tr>\n    <tr>\n      <th>14</th>\n      <td>Region Nordjylland</td>\n      <td>24161</td>\n      <td>23023</td>\n      <td>24239</td>\n      <td>25639</td>\n      <td>25585</td>\n      <td>26476</td>\n      <td>27340</td>\n      <td>26573</td>\n      <td>26152</td>\n      <td>...</td>\n      <td>25798</td>\n      <td>25736</td>\n      <td>24546</td>\n      <td>24384</td>\n      <td>24645</td>\n      <td>24927</td>\n      <td>25294</td>\n      <td>26624</td>\n      <td>28398</td>\n      <td>29148</td>\n    </tr>\n    <tr>\n      <th>16</th>\n      <td>Region Hovedstaden</td>\n      <td>83191</td>\n      <td>79425</td>\n      <td>83013</td>\n      <td>88858</td>\n      <td>91680</td>\n      <td>95165</td>\n      <td>99171</td>\n      <td>102325</td>\n      <td>104543</td>\n      <td>...</td>\n      <td>103008</td>\n      <td>98725</td>\n      <td>95693</td>\n      <td>94311</td>\n      <td>95006</td>\n      <td>98420</td>\n      <td>102466</td>\n      <td>105417</td>\n      <td>110673</td>\n      <td>113380</td>\n    </tr>\n    <tr>\n      <th>21</th>\n      <td>Region Sjælland</td>\n      <td>93431</td>\n      <td>90462</td>\n      <td>94567</td>\n      <td>100987</td>\n      <td>102974</td>\n      <td>106611</td>\n      <td>109860</td>\n      <td>112632</td>\n      <td>115299</td>\n      <td>...</td>\n      <td>116165</td>\n      <td>110734</td>\n      <td>106321</td>\n      <td>103199</td>\n      <td>103154</td>\n      <td>107356</td>\n      <td>112388</td>\n      <td>117202</td>\n      <td>123914</td>\n      <td>127878</td>\n    </tr>\n    <tr>\n      <th>24</th>\n      <td>Region Syddanmark</td>\n      <td>86796</td>\n      <td>84357</td>\n      <td>89916</td>\n      <td>96741</td>\n      <td>98599</td>\n      <td>102293</td>\n      <td>105881</td>\n      <td>106832</td>\n      <td>108783</td>\n      <td>...</td>\n      <td>112558</td>\n      <td>106496</td>\n      <td>102582</td>\n      <td>99530</td>\n      <td>101008</td>\n      <td>102501</td>\n      <td>103696</td>\n      <td>108994</td>\n      <td>116271</td>\n      <td>119899</td>\n    </tr>\n    <tr>\n      <th>27</th>\n      <td>Region Midtjylland</td>\n      <td>84702</td>\n      <td>81004</td>\n      <td>87362</td>\n      <td>93877</td>\n      <td>95311</td>\n      <td>98900</td>\n      <td>102367</td>\n      <td>103938</td>\n      <td>105050</td>\n      <td>...</td>\n      <td>105842</td>\n      <td>101007</td>\n      <td>96112</td>\n      <td>94703</td>\n      <td>96316</td>\n      <td>98685</td>\n      <td>101736</td>\n      <td>106193</td>\n      <td>112243</td>\n      <td>115292</td>\n    </tr>\n    <tr>\n      <th>30</th>\n      <td>Region Nordjylland</td>\n      <td>82865</td>\n      <td>79950</td>\n      <td>86968</td>\n      <td>93321</td>\n      <td>96287</td>\n      <td>100921</td>\n      <td>103321</td>\n      <td>103645</td>\n      <td>103396</td>\n      <td>...</td>\n      <td>108668</td>\n      <td>103679</td>\n      <td>100394</td>\n      <td>96738</td>\n      <td>95698</td>\n      <td>97025</td>\n      <td>101203</td>\n      <td>104161</td>\n      <td>110649</td>\n      <td>113277</td>\n    </tr>\n  </tbody>\n</table>\n<p>10 rows × 29 columns</p>\n</div>"
     },
     "metadata": {},
     "execution_count": 47
    }
   ],
   "source": [
    "wage = wage.loc[I == False] # keep everything else\n",
    "wage.head(10)\n",
    "\n"
   ]
  },
  {
   "cell_type": "code",
   "execution_count": 48,
   "metadata": {},
   "outputs": [
    {
     "output_type": "execute_result",
     "data": {
      "text/plain": [
       "                Region  e1992  e1993  e1994  e1995  e1996  e1997  e1998  \\\n",
       "0   Region Hovedstaden  23687  22598  23582  24737  25021  25514  26492   \n",
       "1      Region Sjælland  23257  22071  23031  23918  24249  24849  25424   \n",
       "2    Region Syddanmark  24296  23025  24617  26357  26015  26504  27260   \n",
       "3   Region Midtjylland  24563  23554  24865  26190  25877  26406  26729   \n",
       "4   Region Nordjylland  24161  23023  24239  25639  25585  26476  27340   \n",
       "..                 ...    ...    ...    ...    ...    ...    ...    ...   \n",
       "60  Region Hovedstaden   2555   2768   3368   3207   3485   3963   3648   \n",
       "61     Region Sjælland   2051   1920   2339   2698   2839   3023   3061   \n",
       "62   Region Syddanmark   1898   1769   2467   2429   2862   2917   2933   \n",
       "63  Region Midtjylland   1751   1795   2335   2558   2849   2925   3217   \n",
       "64  Region Nordjylland   1205   1273   1868   2032   2433   2511   2570   \n",
       "\n",
       "    e1999  e2000  ...  e2011  e2012  e2013  e2014  e2015  e2016  e2017  e2018  \\\n",
       "0   27012  27197  ...  21294  20786  20828  20790  20940  21493  22322  23183   \n",
       "1   25383  25537  ...  22588  21750  21734  22022  22283  22506  23745  25497   \n",
       "2   26930  27096  ...  24759  23539  23543  23786  23704  24361  25200  27351   \n",
       "3   26589  26635  ...  24059  23114  22865  23232  23394  24050  25332  26409   \n",
       "4   26573  26152  ...  25736  24546  24384  24645  24927  25294  26624  28398   \n",
       "..    ...    ...  ...    ...    ...    ...    ...    ...    ...    ...    ...   \n",
       "60   3571   3572  ...   5503   6587   7646   7989   8908  12224  12897  13734   \n",
       "61   3342   2911  ...   3687   4716   5903   6589   6122   7550   8196   8019   \n",
       "62   2768   2996  ...   4383   4703   5992   5466   5836   5883   8028   7904   \n",
       "63   3216   2995  ...   5335   6368   7552   7613   9440   9249  10505  12702   \n",
       "64   2142   2649  ...   4120   4295   5390   5769   6469   7132   8928   7747   \n",
       "\n",
       "    e2019  Age_group  \n",
       "0   23696      15-19  \n",
       "1   26142      15-19  \n",
       "2   28394      15-19  \n",
       "3   26987      15-19  \n",
       "4   29148      15-19  \n",
       "..    ...        ...  \n",
       "60  16265        74+  \n",
       "61   9476        74+  \n",
       "62   9960        74+  \n",
       "63  12394        74+  \n",
       "64   9894        74+  \n",
       "\n",
       "[65 rows x 30 columns]"
      ],
      "text/html": "<div>\n<style scoped>\n    .dataframe tbody tr th:only-of-type {\n        vertical-align: middle;\n    }\n\n    .dataframe tbody tr th {\n        vertical-align: top;\n    }\n\n    .dataframe thead th {\n        text-align: right;\n    }\n</style>\n<table border=\"1\" class=\"dataframe\">\n  <thead>\n    <tr style=\"text-align: right;\">\n      <th></th>\n      <th>Region</th>\n      <th>e1992</th>\n      <th>e1993</th>\n      <th>e1994</th>\n      <th>e1995</th>\n      <th>e1996</th>\n      <th>e1997</th>\n      <th>e1998</th>\n      <th>e1999</th>\n      <th>e2000</th>\n      <th>...</th>\n      <th>e2011</th>\n      <th>e2012</th>\n      <th>e2013</th>\n      <th>e2014</th>\n      <th>e2015</th>\n      <th>e2016</th>\n      <th>e2017</th>\n      <th>e2018</th>\n      <th>e2019</th>\n      <th>Age_group</th>\n    </tr>\n  </thead>\n  <tbody>\n    <tr>\n      <th>0</th>\n      <td>Region Hovedstaden</td>\n      <td>23687</td>\n      <td>22598</td>\n      <td>23582</td>\n      <td>24737</td>\n      <td>25021</td>\n      <td>25514</td>\n      <td>26492</td>\n      <td>27012</td>\n      <td>27197</td>\n      <td>...</td>\n      <td>21294</td>\n      <td>20786</td>\n      <td>20828</td>\n      <td>20790</td>\n      <td>20940</td>\n      <td>21493</td>\n      <td>22322</td>\n      <td>23183</td>\n      <td>23696</td>\n      <td>15-19</td>\n    </tr>\n    <tr>\n      <th>1</th>\n      <td>Region Sjælland</td>\n      <td>23257</td>\n      <td>22071</td>\n      <td>23031</td>\n      <td>23918</td>\n      <td>24249</td>\n      <td>24849</td>\n      <td>25424</td>\n      <td>25383</td>\n      <td>25537</td>\n      <td>...</td>\n      <td>22588</td>\n      <td>21750</td>\n      <td>21734</td>\n      <td>22022</td>\n      <td>22283</td>\n      <td>22506</td>\n      <td>23745</td>\n      <td>25497</td>\n      <td>26142</td>\n      <td>15-19</td>\n    </tr>\n    <tr>\n      <th>2</th>\n      <td>Region Syddanmark</td>\n      <td>24296</td>\n      <td>23025</td>\n      <td>24617</td>\n      <td>26357</td>\n      <td>26015</td>\n      <td>26504</td>\n      <td>27260</td>\n      <td>26930</td>\n      <td>27096</td>\n      <td>...</td>\n      <td>24759</td>\n      <td>23539</td>\n      <td>23543</td>\n      <td>23786</td>\n      <td>23704</td>\n      <td>24361</td>\n      <td>25200</td>\n      <td>27351</td>\n      <td>28394</td>\n      <td>15-19</td>\n    </tr>\n    <tr>\n      <th>3</th>\n      <td>Region Midtjylland</td>\n      <td>24563</td>\n      <td>23554</td>\n      <td>24865</td>\n      <td>26190</td>\n      <td>25877</td>\n      <td>26406</td>\n      <td>26729</td>\n      <td>26589</td>\n      <td>26635</td>\n      <td>...</td>\n      <td>24059</td>\n      <td>23114</td>\n      <td>22865</td>\n      <td>23232</td>\n      <td>23394</td>\n      <td>24050</td>\n      <td>25332</td>\n      <td>26409</td>\n      <td>26987</td>\n      <td>15-19</td>\n    </tr>\n    <tr>\n      <th>4</th>\n      <td>Region Nordjylland</td>\n      <td>24161</td>\n      <td>23023</td>\n      <td>24239</td>\n      <td>25639</td>\n      <td>25585</td>\n      <td>26476</td>\n      <td>27340</td>\n      <td>26573</td>\n      <td>26152</td>\n      <td>...</td>\n      <td>25736</td>\n      <td>24546</td>\n      <td>24384</td>\n      <td>24645</td>\n      <td>24927</td>\n      <td>25294</td>\n      <td>26624</td>\n      <td>28398</td>\n      <td>29148</td>\n      <td>15-19</td>\n    </tr>\n    <tr>\n      <th>...</th>\n      <td>...</td>\n      <td>...</td>\n      <td>...</td>\n      <td>...</td>\n      <td>...</td>\n      <td>...</td>\n      <td>...</td>\n      <td>...</td>\n      <td>...</td>\n      <td>...</td>\n      <td>...</td>\n      <td>...</td>\n      <td>...</td>\n      <td>...</td>\n      <td>...</td>\n      <td>...</td>\n      <td>...</td>\n      <td>...</td>\n      <td>...</td>\n      <td>...</td>\n      <td>...</td>\n    </tr>\n    <tr>\n      <th>60</th>\n      <td>Region Hovedstaden</td>\n      <td>2555</td>\n      <td>2768</td>\n      <td>3368</td>\n      <td>3207</td>\n      <td>3485</td>\n      <td>3963</td>\n      <td>3648</td>\n      <td>3571</td>\n      <td>3572</td>\n      <td>...</td>\n      <td>5503</td>\n      <td>6587</td>\n      <td>7646</td>\n      <td>7989</td>\n      <td>8908</td>\n      <td>12224</td>\n      <td>12897</td>\n      <td>13734</td>\n      <td>16265</td>\n      <td>74+</td>\n    </tr>\n    <tr>\n      <th>61</th>\n      <td>Region Sjælland</td>\n      <td>2051</td>\n      <td>1920</td>\n      <td>2339</td>\n      <td>2698</td>\n      <td>2839</td>\n      <td>3023</td>\n      <td>3061</td>\n      <td>3342</td>\n      <td>2911</td>\n      <td>...</td>\n      <td>3687</td>\n      <td>4716</td>\n      <td>5903</td>\n      <td>6589</td>\n      <td>6122</td>\n      <td>7550</td>\n      <td>8196</td>\n      <td>8019</td>\n      <td>9476</td>\n      <td>74+</td>\n    </tr>\n    <tr>\n      <th>62</th>\n      <td>Region Syddanmark</td>\n      <td>1898</td>\n      <td>1769</td>\n      <td>2467</td>\n      <td>2429</td>\n      <td>2862</td>\n      <td>2917</td>\n      <td>2933</td>\n      <td>2768</td>\n      <td>2996</td>\n      <td>...</td>\n      <td>4383</td>\n      <td>4703</td>\n      <td>5992</td>\n      <td>5466</td>\n      <td>5836</td>\n      <td>5883</td>\n      <td>8028</td>\n      <td>7904</td>\n      <td>9960</td>\n      <td>74+</td>\n    </tr>\n    <tr>\n      <th>63</th>\n      <td>Region Midtjylland</td>\n      <td>1751</td>\n      <td>1795</td>\n      <td>2335</td>\n      <td>2558</td>\n      <td>2849</td>\n      <td>2925</td>\n      <td>3217</td>\n      <td>3216</td>\n      <td>2995</td>\n      <td>...</td>\n      <td>5335</td>\n      <td>6368</td>\n      <td>7552</td>\n      <td>7613</td>\n      <td>9440</td>\n      <td>9249</td>\n      <td>10505</td>\n      <td>12702</td>\n      <td>12394</td>\n      <td>74+</td>\n    </tr>\n    <tr>\n      <th>64</th>\n      <td>Region Nordjylland</td>\n      <td>1205</td>\n      <td>1273</td>\n      <td>1868</td>\n      <td>2032</td>\n      <td>2433</td>\n      <td>2511</td>\n      <td>2570</td>\n      <td>2142</td>\n      <td>2649</td>\n      <td>...</td>\n      <td>4120</td>\n      <td>4295</td>\n      <td>5390</td>\n      <td>5769</td>\n      <td>6469</td>\n      <td>7132</td>\n      <td>8928</td>\n      <td>7747</td>\n      <td>9894</td>\n      <td>74+</td>\n    </tr>\n  </tbody>\n</table>\n<p>65 rows × 30 columns</p>\n</div>"
     },
     "metadata": {},
     "execution_count": 48
    }
   ],
   "source": [
    "wage = wage.reset_index()\n",
    "del wage['index']#reset index\n",
    "wage.head(10)\n",
    "\n",
    "\n",
    "age=['15-19','20-24','25-29','30-34','35-39','40-44','45-49','50-54','55-59','60-64','65-69','70-74','74+']#add age as rows\n",
    "age_group=list(np.repeat(age,5))\n",
    "wage['Age_group'] = age_group\n",
    "wage.head(100)"
   ]
  },
  {
   "cell_type": "markdown",
   "metadata": {},
   "source": [
    "**Convert the dataset to long format**:"
   ]
  },
  {
   "cell_type": "code",
   "execution_count": 5,
   "metadata": {},
   "outputs": [
    {
     "data": {
      "text/html": [
       "<div>\n",
       "<style scoped>\n",
       "    .dataframe tbody tr th:only-of-type {\n",
       "        vertical-align: middle;\n",
       "    }\n",
       "\n",
       "    .dataframe tbody tr th {\n",
       "        vertical-align: top;\n",
       "    }\n",
       "\n",
       "    .dataframe thead th {\n",
       "        text-align: right;\n",
       "    }\n",
       "</style>\n",
       "<table border=\"1\" class=\"dataframe\">\n",
       "  <thead>\n",
       "    <tr style=\"text-align: right;\">\n",
       "      <th></th>\n",
       "      <th>municipality</th>\n",
       "      <th>year</th>\n",
       "      <th>employment</th>\n",
       "    </tr>\n",
       "  </thead>\n",
       "  <tbody>\n",
       "    <tr>\n",
       "      <th>0</th>\n",
       "      <td>Copenhagen</td>\n",
       "      <td>2008</td>\n",
       "      <td>72.5</td>\n",
       "    </tr>\n",
       "    <tr>\n",
       "      <th>1</th>\n",
       "      <td>Frederiksberg</td>\n",
       "      <td>2008</td>\n",
       "      <td>75.6</td>\n",
       "    </tr>\n",
       "    <tr>\n",
       "      <th>2</th>\n",
       "      <td>Dragør</td>\n",
       "      <td>2008</td>\n",
       "      <td>80.5</td>\n",
       "    </tr>\n",
       "    <tr>\n",
       "      <th>3</th>\n",
       "      <td>Tårnby</td>\n",
       "      <td>2008</td>\n",
       "      <td>79.0</td>\n",
       "    </tr>\n",
       "    <tr>\n",
       "      <th>4</th>\n",
       "      <td>Albertslund</td>\n",
       "      <td>2008</td>\n",
       "      <td>73.1</td>\n",
       "    </tr>\n",
       "  </tbody>\n",
       "</table>\n",
       "</div>"
      ],
      "text/plain": [
       "    municipality  year  employment\n",
       "0     Copenhagen  2008        72.5\n",
       "1  Frederiksberg  2008        75.6\n",
       "2         Dragør  2008        80.5\n",
       "3         Tårnby  2008        79.0\n",
       "4    Albertslund  2008        73.1"
      ]
     },
     "execution_count": 5,
     "metadata": {},
     "output_type": "execute_result"
    }
   ],
   "source": []
  },
  {
   "cell_type": "markdown",
   "metadata": {},
   "source": [
    "## Income data"
   ]
  },
  {
   "cell_type": "markdown",
   "metadata": {},
   "source": [
    "**Read the income data** in ``INDKP101.xlsx`` and **clean it**:"
   ]
  },
  {
   "cell_type": "code",
   "execution_count": 6,
   "metadata": {},
   "outputs": [
    {
     "data": {
      "text/html": [
       "<div>\n",
       "<style scoped>\n",
       "    .dataframe tbody tr th:only-of-type {\n",
       "        vertical-align: middle;\n",
       "    }\n",
       "\n",
       "    .dataframe tbody tr th {\n",
       "        vertical-align: top;\n",
       "    }\n",
       "\n",
       "    .dataframe thead th {\n",
       "        text-align: right;\n",
       "    }\n",
       "</style>\n",
       "<table border=\"1\" class=\"dataframe\">\n",
       "  <thead>\n",
       "    <tr style=\"text-align: right;\">\n",
       "      <th></th>\n",
       "      <th>municipality</th>\n",
       "      <th>year</th>\n",
       "      <th>income</th>\n",
       "    </tr>\n",
       "  </thead>\n",
       "  <tbody>\n",
       "    <tr>\n",
       "      <th>0</th>\n",
       "      <td>Copenhagen</td>\n",
       "      <td>1987</td>\n",
       "      <td>75356</td>\n",
       "    </tr>\n",
       "    <tr>\n",
       "      <th>1</th>\n",
       "      <td>Frederiksberg</td>\n",
       "      <td>1987</td>\n",
       "      <td>85428</td>\n",
       "    </tr>\n",
       "    <tr>\n",
       "      <th>2</th>\n",
       "      <td>Dragør</td>\n",
       "      <td>1987</td>\n",
       "      <td>97966</td>\n",
       "    </tr>\n",
       "    <tr>\n",
       "      <th>3</th>\n",
       "      <td>Tårnby</td>\n",
       "      <td>1987</td>\n",
       "      <td>87598</td>\n",
       "    </tr>\n",
       "    <tr>\n",
       "      <th>4</th>\n",
       "      <td>Albertslund</td>\n",
       "      <td>1987</td>\n",
       "      <td>83540</td>\n",
       "    </tr>\n",
       "  </tbody>\n",
       "</table>\n",
       "</div>"
      ],
      "text/plain": [
       "    municipality  year  income\n",
       "0     Copenhagen  1987   75356\n",
       "1  Frederiksberg  1987   85428\n",
       "2         Dragør  1987   97966\n",
       "3         Tårnby  1987   87598\n",
       "4    Albertslund  1987   83540"
      ]
     },
     "execution_count": 6,
     "metadata": {},
     "output_type": "execute_result"
    }
   ],
   "source": []
  },
  {
   "cell_type": "markdown",
   "metadata": {},
   "source": [
    "> **Note:** The function ``dataproject.only_keep_municipalities()`` is used on both the employment and the income datasets."
   ]
  },
  {
   "cell_type": "markdown",
   "metadata": {},
   "source": [
    "## Explore data set"
   ]
  },
  {
   "cell_type": "markdown",
   "metadata": {},
   "source": [
    "In order to be able to **explore the raw data**, we here provide an **interactive plot** to show, respectively, the employment and income level in each municipality"
   ]
  },
  {
   "cell_type": "markdown",
   "metadata": {},
   "source": [
    "The **static plot** is:"
   ]
  },
  {
   "cell_type": "code",
   "execution_count": 7,
   "metadata": {},
   "outputs": [],
   "source": []
  },
  {
   "cell_type": "markdown",
   "metadata": {},
   "source": [
    "The **interactive plot** is:"
   ]
  },
  {
   "cell_type": "code",
   "execution_count": 48,
   "metadata": {},
   "outputs": [],
   "source": [
    "\n",
    "                 \n"
   ]
  },
  {
   "cell_type": "markdown",
   "metadata": {},
   "source": [
    "ADD SOMETHING HERE IF THE READER SHOULD KNOW THAT E.G. SOME MUNICIPALITY IS SPECIAL."
   ]
  },
  {
   "cell_type": "markdown",
   "metadata": {},
   "source": [
    "# Merge data sets"
   ]
  },
  {
   "cell_type": "markdown",
   "metadata": {},
   "source": [
    "We now create a data set with **municpalities which are in both of our data sets**. We can illustrate this **merge** as:"
   ]
  },
  {
   "cell_type": "code",
   "execution_count": 9,
   "metadata": {},
   "outputs": [
    {
     "data": {
      "image/png": "[encoded data removed]",
      "text/plain": [
       "<Figure size 1080x504 with 1 Axes>"
      ]
     },
     "metadata": {},
     "output_type": "display_data"
    }
   ],
   "source": []
  },
  {
   "cell_type": "code",
   "execution_count": 10,
   "metadata": {},
   "outputs": [
    {
     "name": "stdout",
     "output_type": "stream",
     "text": [
      "Number of municipalities = 98\n",
      "Number of years          = 10\n"
     ]
    }
   ],
   "source": []
  },
  {
   "cell_type": "markdown",
   "metadata": {},
   "source": [
    "# Analysis"
   ]
  },
  {
   "cell_type": "markdown",
   "metadata": {},
   "source": [
    "To get a quick overview of the data, we show some **summary statistics by year**:"
   ]
  },
  {
   "cell_type": "code",
   "execution_count": 48,
   "metadata": {},
   "outputs": [],
   "source": [
    "\n"
   ]
  },
  {
   "cell_type": "markdown",
   "metadata": {},
   "source": [
    "ADD FURTHER ANALYSIS. EXPLAIN THE CODE BRIEFLY AND SUMMARIZE THE RESULTS."
   ]
  },
  {
   "cell_type": "markdown",
   "metadata": {},
   "source": [
    "# Conclusion"
   ]
  },
  {
   "cell_type": "markdown",
   "metadata": {},
   "source": [
    "ADD CONCISE CONLUSION."
   ]
  }
 ],
 "metadata": {
  "kernelspec": {
   "name": "python385jvsc74a57bd08228d92a807917af1267edf657ebc10d82f8d40b7099bf2c7ca8a43d7c69ad4d",
   "display_name": "Python 3.8.5 64-bit (conda)"
  },
  "language_info": {
   "codemirror_mode": {
    "name": "ipython",
    "version": 3
   },
   "file_extension": ".py",
   "mimetype": "text/x-python",
   "name": "python",
   "nbconvert_exporter": "python",
   "pygments_lexer": "ipython3",
   "version": "3.8.5-final"
  },
  "toc-autonumbering": true
 },
 "nbformat": 4,
 "nbformat_minor": 4
}