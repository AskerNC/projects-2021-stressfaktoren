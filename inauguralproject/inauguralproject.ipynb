{
 "cells": [
  {
   "cell_type": "markdown",
   "metadata": {},
   "source": [
    "# Inaugural Project - Stressfaktoren"
   ]
  },
  {
   "cell_type": "code",
   "execution_count": 2,
   "metadata": {},
   "outputs": [],
   "source": [
    "#Imports:\n",
    "import numpy as np\n",
    "import math\n",
    "\n",
    "# autoreload modules when code is run\n",
    "%load_ext autoreload\n",
    "%autoreload 2\n",
    "\n",
    "# local modules\n",
    "import inauguralproject"
   ]
  },
  {
   "cell_type": "markdown",
   "metadata": {},
   "source": [
    "Note that the notebook uses functions from the inauguralproject.py file"
   ]
  },
  {
   "cell_type": "markdown",
   "metadata": {},
   "source": [
    "# Question 1"
   ]
  },
  {
   "cell_type": "markdown",
   "metadata": {},
   "source": [
    "We onsider the following model of housing demand and taxation, maximing the consumers utility from house quality and consumption: $$c^*, h^* = arg\\ max\\ c^{1-\\phi}h^\\phi$$\n",
    "s.t.\n",
    "$$\\tilde{p}_{h}=p_{h}\\epsilon$$\n",
    "$$m=\\tau(p_h,\\tilde{p}_{h})+c$$\n",
    "$$\\tau(p_h,\\tilde{p}_{h})=r p_h+\\tau^{g}\\tilde{p}_{h}+\\tau^{P} \\max (\\tilde{p}_{h}-\\bar{p},0)$$\n",
    "c is consumption, h is housing quality, m is the amount of cash the household has, r is the interest rate, $\\bar[p]$ is the tax bracket cutoff, $\\tau^{g}$ is the standard house tax, $\\tau^{p}$ is the progressive house tax, epsilon is an undervut factor.\n",
    "\n",
    "With a bit of manipulation the following expression can be derived, where from the optimal h is found maximising utility:\n",
    "$$U=[m-(r*h+\\tau^{g}*h*\\epsilon+\\tau^{P}*max \\ (h*\\epsilon-\\bar{p}))]^{1-\\phi}*h^{\\phi}$$\n",
    "The parameter values are as following: $$\\phi=0.3, \\ \\epsilon=0.5, \\ r=0.03, \\tau^{g}=0.012, \\ \\tau^{p}=0.004 \\ , \\bar{p}=3$$\n",
    "\n"
   ]
  },
  {
   "cell_type": "code",
   "execution_count": 4,
   "metadata": {},
   "outputs": [
    {
     "name": "stdout",
     "output_type": "stream",
     "text": [
      "The optimal house quality/price is = 4.1666666039527485\n",
      "The optimal consumption level is = 0.35000000225770106\n",
      "The optimal utility level is = 0.7358414678061572\n"
     ]
    }
   ],
   "source": [
    "# code for solving the model (remember documentation and comments)\n",
    "\n",
    "#Define the parameter values.\n",
    "m=0.5\n",
    "phi=0.3\n",
    "epsilon=0.5\n",
    "r=0.03\n",
    "taug=0.012\n",
    "taup=0.004\n",
    "pbar=3.0\n",
    "\n",
    "#Compute the optimal consumption, house price and utility.\n",
    "h_star = inauguralproject.u_optimiser(m, r, pbar, taug, taup, epsilon, phi) #Optimal house price\n",
    "c_star=m-(r*h_star+taug*h_star*epsilon+taup*max(h_star*epsilon-pbar,0)) #Optimal consumption\n",
    "u_star= inauguralproject.u_func(h=h_star, m=m, r=r, pbar=pbar, taug=taug, taup=taup, epsilon=epsilon, phi=phi) #Optimal utility\n",
    "\n",
    "\n",
    "#Print the optimal values.\n",
    "print('The optimal house quality/price is = ' + str(h_star))\n",
    "print('The optimal consumption level is = ' + str(c_star))\n",
    "print('The optimal utility level is = ' + str(u_star))\n"
   ]
  },
  {
   "cell_type": "markdown",
   "metadata": {},
   "source": [
    "# Question 2"
   ]
  },
  {
   "cell_type": "markdown",
   "metadata": {},
   "source": [
    "Here a numpy array was created for m with values between 0.4 and 1.5,\n",
    "and two corresponding empty arrays for the optimal weight of h and c which we could append to.\n",
    "Then we looped our optimizer function over the cash (m) values, where the results are stored in the empty arrays for h and c. Then two figures were plotted, one for house quality and one for consumption"
   ]
  },
  {
   "cell_type": "code",
   "execution_count": 5,
   "metadata": {},
   "outputs": [
    {
     "data": {
      "image/png": "[encoded data removed]",
      "text/plain": [
       "<Figure size 720x288 with 2 Axes>"
      ]
     },
     "metadata": {
      "needs_background": "light"
     },
     "output_type": "display_data"
    }
   ],
   "source": [
    "# Create an array for m and a container for the values of h* and c*.\n",
    "N=100\n",
    "m2=np.linspace(0.4,1.5,num=N)\n",
    "h_star_values=np.empty(N)\n",
    "c_star_values=np.empty(N)\n",
    "\n",
    "#Create a loop that optimises over the m array.\n",
    "for i,m in enumerate (m2):\n",
    "    hc = inauguralproject.u_optimiser(m, r, pbar, taug, taup, epsilon, phi)\n",
    "\n",
    "    h_star_values[i] = hc\n",
    "    c_star_values[i] = m-(r*hc+taug*hc*epsilon+taup*max(hc*epsilon-pbar,0)) #Function for consumption\n",
    "\n",
    "#Plot the figure.\n",
    "inauguralproject.two_figures(m2,h_star_values,\"House price\", \"$m$\", \"$h$\", m2, c_star_values,\"Consumption level\", \"$m$\", \"$c$\")"
   ]
  },
  {
   "cell_type": "markdown",
   "metadata": {},
   "source": [
    "# Question 3"
   ]
  },
  {
   "cell_type": "markdown",
   "metadata": {},
   "source": [
    "Here we use the total tax function to find the total tax revenue and the average tax burden per household. \n",
    "This is done by setting up a random numpy with a lognormal (-0.4, 0.35) distribution. Then we loop over it 10,000 times yielding the total tax revenue, divided by the amount of households 10,000 to find the average tax burden."
   ]
  },
  {
   "cell_type": "code",
   "execution_count": 6,
   "metadata": {
    "tags": []
   },
   "outputs": [
    {
     "name": "stdout",
     "output_type": "stream",
     "text": [
      "This correlatas to a total tax revenue of:  363.2680342536602\n",
      "The average household tax burden is therefore: 0.03632680342536602\n",
      "In non-millions this is: 36326.803425366015 DKK\n"
     ]
    }
   ],
   "source": [
    "# Calculating the average and total tax revenue.\n",
    "\n",
    "#Set up the parameters:\n",
    "phi=0.3\n",
    "epsilon=0.5\n",
    "r=0.03\n",
    "taug=0.012\n",
    "taup=0.004\n",
    "pbar=3.0\n",
    "seed=1\n",
    "size=10000\n",
    "mean=-0.4\n",
    "sigma=0.35\n",
    "\n",
    "#Set seed and draw a random m value from the lognormal distribution.\n",
    "np.random.seed(seed)\n",
    "m_i = np.random.lognormal(mean=mean,sigma=sigma,size=size)\n",
    "\n",
    "#set empty list\n",
    "tax = []\n",
    "\n",
    "#For loop that calculates the optimal house price for each value of m and then runs it through the taxburden function.\n",
    "for m in m_i:        \n",
    "    h_best = inauguralproject.u_optimiser(m,r,pbar,taug,taup,epsilon,phi)\n",
    "    tax.append(inauguralproject.tax_new(h_best,pbar,taug,taup,epsilon))\n",
    "\n",
    "#Print the results\n",
    "print('This correlatas to a total tax revenue of:  '+str(sum(tax)))\n",
    "print('The average household tax burden is therefore: '+str(sum(tax)/size))\n",
    "print('In non-millions this is: '+str(sum(tax)*100)+' DKK')\n",
    "\n",
    "\n",
    "\n"
   ]
  },
  {
   "cell_type": "markdown",
   "metadata": {},
   "source": [
    "# Question 4"
   ]
  },
  {
   "cell_type": "markdown",
   "metadata": {},
   "source": [
    "We repeat the steps from Q3 but this time with new parameters.\n",
    "\n",
    "$$\\epsilon=0.8, \\ \\tau^{g}=0.01, \\ \\tau^{p}=0.009, \\ \\bar{p}=8$$"
   ]
  },
  {
   "cell_type": "code",
   "execution_count": 7,
   "metadata": {},
   "outputs": [
    {
     "name": "stdout",
     "output_type": "stream",
     "text": [
      "This correlatas to a total tax revenue of:  450.3629313721809\n",
      "The average household tax burden is therefore: 0.04503629313721809\n",
      "In non-millions this is: 45036.29313721809 DKK\n"
     ]
    }
   ],
   "source": [
    "# Calculate the average and total tax revenue.\n",
    "\n",
    "#Set up the parameters:\n",
    "phi_4=0.3\n",
    "epsilon_4=0.8\n",
    "r_4=0.03\n",
    "taug_4=0.01\n",
    "taup_4=0.009\n",
    "pbar_4=8.0\n",
    "\n",
    "#Set seed and draw a random m value from the lognormal distribution.\n",
    "np.random.seed(seed)\n",
    "m_i = np.random.lognormal(mean=mean,sigma=sigma,size=size)\n",
    "\n",
    "#set empty list\n",
    "tax_4 = []\n",
    "\n",
    "#For loop that calculates the optimal house price for each value of m and then runs it through the taxburden function.\n",
    "for m in m_i:        \n",
    "    h_best_4 = inauguralproject.u_optimiser(m,r_4,pbar_4,taug_4,taup_4,epsilon_4,phi_4)\n",
    "    tax_4.append(inauguralproject.tax_new(h_best_4,pbar_4,taug_4,taup_4,epsilon_4))\n",
    "\n",
    "#Print the results\n",
    "print('This correlatas to a total tax revenue of:  '+str(sum(tax_4)))\n",
    "print('The average household tax burden is therefore: '+str(sum(tax_4)/size))\n",
    "print('In non-millions this is: '+str(sum(tax_4)*100)+' DKK')\n"
   ]
  },
  {
   "cell_type": "markdown",
   "metadata": {},
   "source": [
    "# Question 5"
   ]
  },
  {
   "cell_type": "markdown",
   "metadata": {},
   "source": [
    "We now want to ensure that the average tax burden from Q4 remains the same as it was in Q3 by lowering the tax level $\\tau^{g}$. We achieve this using a while loop where $\\tau^{g}$ starts at zero and is then raised until the average tax burden is within 0.001 of what it was in Q3."
   ]
  },
  {
   "cell_type": "code",
   "execution_count": 30,
   "metadata": {},
   "outputs": [
    {
     "name": "stdout",
     "output_type": "stream",
     "text": [
      "The optimal value of tau_g is approximately: 0.0076121824323017945\n",
      "This correlatas to a total tax revenue of:  360.96173529356815\n",
      "The average household tax burden is therefore: 0.03609617352935682\n",
      "In non-millions this is: 36096.17352935681 DKK\n"
     ]
    }
   ],
   "source": [
    "# Determine the value of taug that ensures that the average tax burden remians the same from Q3 to Q4\n",
    "\n",
    "#Set up the parameters but with taug as 0:\n",
    "new_phi=0.3\n",
    "new_epsilon=0.8\n",
    "new_r=0.03\n",
    "new_taug=0\n",
    "new_taup=0.009\n",
    "new_pbar=8.0\n",
    "\n",
    "#Create a taug that is optimized and set it to none\n",
    "op_taug=None\n",
    "\n",
    "# Set up a While-loop that optimises taug.\n",
    "while op_taug is None:\n",
    "    \n",
    "    # Create an empty list\n",
    "    new_tax = []   \n",
    "    \n",
    "    # Set up a for loop like before\n",
    "    for m in m_i:\n",
    "        h_best = inauguralproject.u_optimiser(m,new_r,new_pbar,new_taug,new_taup,new_epsilon,new_phi)\n",
    "        new_tax.append(inauguralproject.tax_new(h_best,new_pbar,new_taug,new_taup,new_epsilon))           \n",
    "    \n",
    "    mean_new = sum(new_tax)/size\n",
    "    mean_old = sum(tax)/size\n",
    "    # Check if average taxburden is equal to taxburden in Q3\n",
    "    if math.isclose(mean_new, mean_old, abs_tol=0.001):    \n",
    "        op_taug = new_taug                           \n",
    "       \n",
    "    # If the average taxburden is not within 0.001 of the one in Q3 then add 0.00001 to taug\n",
    "    else:\n",
    "        new_taug = new_taug + 0.00001        \n",
    "\n",
    "# Print the results:\n",
    "print('The optimal value of tau_g is approximately: '+str(op_taug))\n",
    "print('This correlatas to a total tax revenue of:  '+str(sum(new_tax)))\n",
    "print('The average household tax burden is therefore: '+str(mean_new))\n",
    "print('In non-millions this is: '+str(sum(new_tax)*100)+' DKK')\n",
    "\n"
   ]
  },
  {
   "cell_type": "code",
   "execution_count": 31,
   "metadata": {},
   "outputs": [
    {
     "name": "stdout",
     "output_type": "stream",
     "text": [
      "1:\n",
      "0.0001 0.03632680342536602 -0.03508614767529145\n",
      "2:\n",
      "0.00019658473734793783 0.03632680342536602 -0.03456104293006959\n",
      "3:\n",
      "0.00038361395286471924 0.03632680342536602 -0.03355067630213534\n",
      "4:\n",
      "0.0007379117810231878 0.03632680342536602 -0.031659798398283125\n",
      "5:\n",
      "0.0013810219922177965 0.03632680342536602 -0.02830225378603888\n",
      "6:\n",
      "0.002456977794058494 0.03632680342536602 -0.022896704295056317\n",
      "7:\n",
      "0.004005605493318005 0.03632680342536602 -0.01555147662589874\n",
      "8:\n",
      "0.0057204021263300075 0.03632680342536602 -0.007971931135525516\n",
      "9:\n",
      "0.0069757465970403994 0.03632680342536602 -0.0027655535693605973\n",
      "Solution found\n",
      "10:\n",
      "0.007506809038029335 0.03632680342536602 -0.0006456646815080069\n",
      "The optimal value of tau_g is approximately: 0.007506809038029335\n",
      "This correlatas to a total tax revenue of:  356.81138743858014\n",
      "The average household tax burden is therefore: 0.03568113874385801\n",
      "In non-millions this is: 35681.13874385801 DKK\n"
     ]
    }
   ],
   "source": [
    "# Determine the value of taug that ensures that the average tax burden remians the same from Q3 to Q4\n",
    "\n",
    "#Set up the parameters but with taug as 0:\n",
    "new_phi=0.3\n",
    "new_epsilon=0.8\n",
    "new_r=0.03\n",
    "new_taug=0.005\n",
    "new_taup=0.009\n",
    "new_pbar=8.0\n",
    "\n",
    "#Create a taug that is optimized and set it to none\n",
    "op_taug=None\n",
    "\n",
    "\n",
    "new_taug=0.0001\n",
    "count = 1 \n",
    "# Set up a While-loop that optimises taug.\n",
    "while op_taug is None:\n",
    "    \n",
    "    # Create an empty list\n",
    "    new_tax = []   \n",
    "    \n",
    "    # Set up a for loop like before\n",
    "    for m in m_i:\n",
    "        h_best = inauguralproject.u_optimiser(m,new_r,new_pbar,new_taug,new_taup,new_epsilon,new_phi)\n",
    "        new_tax.append(inauguralproject.tax_new(h_best,new_pbar,new_taug,new_taup,new_epsilon))           \n",
    "    \n",
    "    mean_new = sum(new_tax)/size\n",
    "    mean_old = sum(tax)/size\n",
    "    # Check if average taxburden is equal to taxburden in Q3\n",
    "    if math.isclose(mean_new, mean_old, abs_tol=0.001):    \n",
    "        op_taug = new_taug\n",
    "        print('Solution found')\n",
    "        #break\n",
    "    \n",
    "    \n",
    "    if count%10 ==0 or count<10:\n",
    "        print(f'{count}:')\n",
    "        print(new_taug,mean_old,mean_new-mean_old)\n",
    "    \n",
    "    \n",
    "    if count>100:\n",
    "        break\n",
    "        print('Solution not found after 100 iterations')\n",
    "        print(mean_new)\n",
    "    \n",
    "    count +=1\n",
    "    \n",
    "    # Update tax rate guess\n",
    "    new_taug = new_taug * (1- (mean_new-mean_old)/mean_old)\n",
    "    \n",
    "\n",
    "# Print the results:\n",
    "print('The optimal value of tau_g is approximately: '+str(op_taug))\n",
    "print('This correlatas to a total tax revenue of:  '+str(sum(new_tax)))\n",
    "print('The average household tax burden is therefore: '+str(mean_new))\n",
    "print('In non-millions this is: '+str(sum(new_tax)*100)+' DKK')\n",
    "\n"
   ]
  },
  {
   "cell_type": "markdown",
   "metadata": {},
   "source": [
    "\n",
    "It takes a long time to execute, so here are the results in text form:\n",
    "\n",
    "The optimal value of tau_g is approximately: 0.007419999999999866\n",
    "\n",
    "This correlates to a total tax revenue of:  353.37884496960294\n",
    "\n",
    "The average household tax burden is therefore: 0.03533788449696029\n",
    "\n",
    "In non-millions this is: 35337.884496960294 DKK\n"
   ]
  },
  {
   "cell_type": "markdown",
   "metadata": {},
   "source": [
    "# Conclusion"
   ]
  },
  {
   "cell_type": "markdown",
   "metadata": {},
   "source": [
    "In Q3 we calculated the total tax revenue optained thorugh house taxation as well as the average household tax burden from this.\n",
    "\n",
    "Then in Q4 the normal house tax $\\tau^{g}$ was lowered whereas $\\epsilon$, $\\bar{p}$, and $\\tau^{p}$ where raised, thus resulting in a higher tax burden mainly due to the higher $\\epsilon$ which meant that house prices where higher.\n",
    "\n",
    "The purpose of Q5 was then to lower the average tax to a level that meant that the average household tax burden was the same in Q4 as it was in Q3. In effect this means that houses are now valued higher, but the percentage tax on them is lower and for the higher tax bracket the tax is higher, however, qualifying for the higher tax bracket is now harder due to the fact that only houses of a value that exceeds 8 million DKK now qualifies as opposed to 3 million DKK before.\n",
    "\n",
    "\n",
    "\n",
    "\n"
   ]
  }
 ],
 "metadata": {
  "kernelspec": {
   "display_name": "Python 3",
   "language": "python",
   "name": "python3"
  },
  "language_info": {
   "codemirror_mode": {
    "name": "ipython",
    "version": 3
   },
   "file_extension": ".py",
   "mimetype": "text/x-python",
   "name": "python",
   "nbconvert_exporter": "python",
   "pygments_lexer": "ipython3",
   "version": "3.8.8"
  },
  "toc-autonumbering": true
 },
 "nbformat": 4,
 "nbformat_minor": 4
}
