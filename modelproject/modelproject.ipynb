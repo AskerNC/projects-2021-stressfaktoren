{
 "cells": [
  {
   "cell_type": "markdown",
   "metadata": {},
   "source": [
    "# Model Project - OLG"
   ]
  },
  {
   "cell_type": "code",
   "execution_count": 361,
   "metadata": {},
   "outputs": [
    {
     "output_type": "stream",
     "name": "stdout",
     "text": [
      "The autoreload extension is already loaded. To reload it, use:\n  %reload_ext autoreload\n"
     ]
    }
   ],
   "source": [
    "import numpy as np\n",
    "from scipy import optimize\n",
    "import sympy as sm\n",
    "\n",
    "import matplotlib.pyplot as plt\n",
    "import ipywidgets as widgets\n",
    "\n",
    "# autoreload modules when code is run\n",
    "%load_ext autoreload\n",
    "%autoreload 2\n"
   ]
  },
  {
   "cell_type": "markdown",
   "metadata": {},
   "source": [
    "# Model description"
   ]
  },
  {
   "cell_type": "markdown",
   "metadata": {},
   "source": [
    "\n",
    "\n",
    "In this project we will first consider a an OLG model with a pay as you go system which we will later compare to an OLG model with a fully funded system.\n",
    "\n",
    "Individuals live for two periods and we assume constant population:\n",
    "\n",
    "$L_t=L_{t+1}$\n",
    "\n",
    "The lifetime utility of a household is defined as:\n",
    "\n",
    "$U_t=ln(c_{1t})+\\frac{1}{(1+\\rho)}ln(c_{2t+1}), \\ \\ \\rho>-1$\n",
    "\n",
    "This is subject to the following constraints:\n",
    "\n",
    "$c_{1t}=w_t(1-\\tau)-s_t$\n",
    "\n",
    "$c_{2t+1}=s_t(1+r_{t+1})+\\tau w_{t+1}$\n",
    "\n",
    "Thus the model has the following parameters:\n",
    "\n",
    "$L_t$: The population at time $t$\n",
    "\n",
    "$U_t$: Lifetime household utility\n",
    "\n",
    "$\\rho$: Consumption discount rate\n",
    "\n",
    "$c_{1t}$: Consumption of the young\n",
    "\n",
    "$c_{2t+1}$: Consumption of the old\n",
    "\n",
    "$w_t$: Wage\n",
    "\n",
    "$r_t$: Return on capital\n",
    "\n",
    "$s_t$: Savings"
   ]
  },
  {
   "cell_type": "code",
   "execution_count": 362,
   "metadata": {},
   "outputs": [],
   "source": [
    "# Define symbols for sympy\n",
    "K_t = sm.symbols('K_t')\n",
    "L_t = sm.symbols('L_t')\n",
    "A = sm.symbols('A')\n",
    "alpha = sm.symbols('alpha')\n",
    "delta = sm.symbols('delta')\n",
    "rho = sm.symbols('rho')\n",
    "w_t = sm.symbols('w_t')\n",
    "r_t = sm.symbols('r_t')\n",
    "k_t = sm.symbols('k_t')\n",
    "k_plus = sm.symbols('k_t+1')\n",
    "Pi = sm.symbols('Pi_t')\n",
    "\n",
    "s_t = sm.symbols('s_t')\n",
    "U_t = sm.symbols('U_t')\n",
    "U = sm.symbols('U_t')\n",
    "r_plus = sm.symbols('r_t+1')\n",
    "k = sm.symbols('k^*')\n",
    "\n",
    "d_t = sm.symbols('d_t')\n",
    "d_plus = sm.symbols('d_t+1')\n",
    "tau = sm.symbols('t')\n",
    "s_payg = sm.symbols('s_payg')\n",
    "w_plus = sm.symbols('w_t+1')\n",
    "k_payg = sm.symbols('k_payg')\n",
    "U_payg = sm.symbols('U_paygt')\n",
    "kpaygss = sm.symbols('k_payg^*')"
   ]
  },
  {
   "cell_type": "code",
   "execution_count": 363,
   "metadata": {},
   "outputs": [
    {
     "output_type": "stream",
     "name": "stdout",
     "text": [
      "The profit of a given firm is defined as:\n"
     ]
    },
    {
     "output_type": "display_data",
     "data": {
      "text/plain": "Eq(Pi_t, A*K_t**alpha*L_t**(1 - alpha) - K_t*(delta + r_t) - L_t*w_t)",
      "text/latex": "$\\displaystyle \\Pi_{t} = A K_{t}^{\\alpha} L_{t}^{1 - \\alpha} - K_{t} \\left(\\delta + r_{t}\\right) - L_{t} w_{t}$"
     },
     "metadata": {}
    },
    {
     "output_type": "stream",
     "name": "stdout",
     "text": [
      "By taking the first order conditions to this, we get the expressions for w an r:\n"
     ]
    },
    {
     "output_type": "display_data",
     "data": {
      "text/plain": "Eq(r_t, A*K_t**alpha*L_t*L_t**(-alpha)*alpha/K_t - delta)",
      "text/latex": "$\\displaystyle r_{t} = \\frac{A K_{t}^{\\alpha} L_{t} L_{t}^{- \\alpha} \\alpha}{K_{t}} - \\delta$"
     },
     "metadata": {}
    },
    {
     "output_type": "display_data",
     "data": {
      "text/plain": "Eq(w_t, A*K_t**alpha*L_t**(-alpha)*(1 - alpha))",
      "text/latex": "$\\displaystyle w_{t} = A K_{t}^{\\alpha} L_{t}^{- \\alpha} \\left(1 - \\alpha\\right)$"
     },
     "metadata": {}
    }
   ],
   "source": [
    "#In order to derive the wage (w) and return on capital (r) we need to solve the firms profit maximization problem.\n",
    "\n",
    "#Define the profit function\n",
    "profit = A*(K_t**alpha)*(L_t**(1-alpha))-w_t*L_t-(r_t+delta)*K_t\n",
    "\n",
    "#Setup the FOC's\n",
    "foc1=sm.diff(profit,K_t)\n",
    "foc2=sm.diff(profit,L_t)\n",
    "\n",
    "#Solve FOC's\n",
    "solve_foc1=sm.solve(foc1,r_t)[0]\n",
    "solve_foc2=sm.solve(foc2,w_t)[0]\n",
    "\n",
    "#Print eqations\n",
    "print('The profit of a given firm is defined as:')\n",
    "display(sm.Eq(Pi,profit))\n",
    "print('By taking the first order conditions to this, we get the expressions for w an r:')\n",
    "display(sm.Eq(r_t,solve_foc1))\n",
    "display(sm.Eq(w_t,solve_foc2))"
   ]
  },
  {
   "source": [
    "We now assume full capital depreciation $\\delta=1$"
   ],
   "cell_type": "markdown",
   "metadata": {}
  },
  {
   "cell_type": "code",
   "execution_count": 364,
   "metadata": {},
   "outputs": [
    {
     "output_type": "stream",
     "name": "stdout",
     "text": [
      "By using the marginal products of capital and labour we can simplify these expressions to:\n"
     ]
    },
    {
     "output_type": "display_data",
     "data": {
      "text/plain": "Eq(r_t, A*alpha*k_t**(alpha - 1) - 1)",
      "text/latex": "$\\displaystyle r_{t} = A \\alpha k_{t}^{\\alpha - 1} - 1$"
     },
     "metadata": {}
    },
    {
     "output_type": "display_data",
     "data": {
      "text/plain": "Eq(w_t, A*k_t**alpha*(1 - alpha))",
      "text/latex": "$\\displaystyle w_{t} = A k_{t}^{\\alpha} \\left(1 - \\alpha\\right)$"
     },
     "metadata": {}
    }
   ],
   "source": [
    "#Setup equations\n",
    "sample_r=alpha*A*k_t**(alpha-1)-1\n",
    "sample_w=(1-alpha)*A*k_t**alpha\n",
    "\n",
    "#Display them\n",
    "print('By using the marginal products of capital and labour we can simplify these expressions to:')\n",
    "display(sm.Eq(r_t,sample_r))\n",
    "display(sm.Eq(w_t,sample_w))"
   ]
  },
  {
   "source": [
    "We now move unto the household optimization problem and determine the savings rate."
   ],
   "cell_type": "markdown",
   "metadata": {}
  },
  {
   "cell_type": "code",
   "execution_count": 365,
   "metadata": {},
   "outputs": [
    {
     "output_type": "stream",
     "name": "stdout",
     "text": [
      "Substitute the constraints into the utility function\n"
     ]
    },
    {
     "output_type": "display_data",
     "data": {
      "text/plain": "Eq(U_t, log(-s_t + w_t*(1 - t)) + log(s_t*(r_t+1 + 1) + t*w_t+1)/(rho + 1))",
      "text/latex": "$\\displaystyle U_{t} = \\log{\\left(- s_{t} + w_{t} \\left(1 - t\\right) \\right)} + \\frac{\\log{\\left(s_{t} \\left(r_{t+1} + 1\\right) + t w_{t+1} \\right)}}{\\rho + 1}$"
     },
     "metadata": {}
    },
    {
     "output_type": "stream",
     "name": "stdout",
     "text": [
      "Take the FOC in regards to savings:\n"
     ]
    },
    {
     "output_type": "display_data",
     "data": {
      "text/plain": "Eq(0, (r_t+1 + 1)/((rho + 1)*(s_t*(r_t+1 + 1) + t*w_t+1)) - 1/(-s_t + w_t*(1 - t)))",
      "text/latex": "$\\displaystyle 0 = \\frac{r_{t+1} + 1}{\\left(\\rho + 1\\right) \\left(s_{t} \\left(r_{t+1} + 1\\right) + t w_{t+1}\\right)} - \\frac{1}{- s_{t} + w_{t} \\left(1 - t\\right)}$"
     },
     "metadata": {}
    },
    {
     "output_type": "stream",
     "name": "stdout",
     "text": [
      "Isolate savings:\n"
     ]
    },
    {
     "output_type": "display_data",
     "data": {
      "text/plain": "Eq(s_t, (-r_t+1*t*w_t + r_t+1*w_t - rho*t*w_t+1 - t*w_t - t*w_t+1 + w_t)/(r_t+1*rho + 2*r_t+1 + rho + 2))",
      "text/latex": "$\\displaystyle s_{t} = \\frac{- r_{t+1} t w_{t} + r_{t+1} w_{t} - \\rho t w_{t+1} - t w_{t} - t w_{t+1} + w_{t}}{r_{t+1} \\rho + 2 r_{t+1} + \\rho + 2}$"
     },
     "metadata": {}
    }
   ],
   "source": [
    "#We solve the household optimization problem and determine savings (s)\n",
    "\n",
    "#Substitute constraints into utility function\n",
    "U_t = sm.log(w_t*(1-tau)-s_t)+(1/(1+rho))*sm.log(s_t*(1+r_plus)+tau*w_plus)\n",
    "\n",
    "#Take the FOC in regards to savings\n",
    "FOC_U = sm.diff(U_t,s_t)\n",
    "\n",
    "#Isolate savings\n",
    "isolate_s = sm.solve(FOC_U,s_t)[0]\n",
    "\n",
    "#Print results\n",
    "print('Substitute the constraints into the utility function')\n",
    "display(sm.Eq(U,U_t))\n",
    "print('Take the FOC in regards to savings:')\n",
    "display(sm.Eq(0,FOC_U))\n",
    "print('Isolate savings:')\n",
    "display(sm.Eq(s_t,isolate_s))"
   ]
  },
  {
   "cell_type": "markdown",
   "metadata": {},
   "source": [
    "# Steady state"
   ]
  },
  {
   "source": [
    "We now wish to determine the steady state level of capital $k^*$"
   ],
   "cell_type": "markdown",
   "metadata": {}
  },
  {
   "cell_type": "code",
   "execution_count": 366,
   "metadata": {},
   "outputs": [
    {
     "output_type": "display_data",
     "data": {
      "text/plain": "Eq(k_t+1, (-r_t+1*t*w_t + r_t+1*w_t - rho*t*w_t+1 - t*w_t - t*w_t+1 + w_t)/(r_t+1*rho + 2*r_t+1 + rho + 2))",
      "text/latex": "$\\displaystyle k_{t+1} = \\frac{- r_{t+1} t w_{t} + r_{t+1} w_{t} - \\rho t w_{t+1} - t w_{t} - t w_{t+1} + w_{t}}{r_{t+1} \\rho + 2 r_{t+1} + \\rho + 2}$"
     },
     "metadata": {}
    },
    {
     "output_type": "error",
     "ename": "IndexError",
     "evalue": "list index out of range",
     "traceback": [
      "\u001b[1;31m---------------------------------------------------------------------------\u001b[0m",
      "\u001b[1;31mIndexError\u001b[0m                                Traceback (most recent call last)",
      "\u001b[1;32m<ipython-input-366-3b7511794e03>\u001b[0m in \u001b[0;36m<module>\u001b[1;34m\u001b[0m\n\u001b[0;32m      6\u001b[0m \u001b[1;33m\u001b[0m\u001b[0m\n\u001b[0;32m      7\u001b[0m \u001b[1;31m#Steady state capital\u001b[0m\u001b[1;33m\u001b[0m\u001b[1;33m\u001b[0m\u001b[1;33m\u001b[0m\u001b[0m\n\u001b[1;32m----> 8\u001b[1;33m \u001b[0mssk\u001b[0m \u001b[1;33m=\u001b[0m \u001b[0msm\u001b[0m\u001b[1;33m.\u001b[0m\u001b[0msolve\u001b[0m\u001b[1;33m(\u001b[0m\u001b[0mca\u001b[0m\u001b[1;33m,\u001b[0m\u001b[0mk_t\u001b[0m\u001b[1;33m)\u001b[0m\u001b[1;33m[\u001b[0m\u001b[1;36m0\u001b[0m\u001b[1;33m]\u001b[0m\u001b[1;33m\u001b[0m\u001b[1;33m\u001b[0m\u001b[0m\n\u001b[0m\u001b[0;32m      9\u001b[0m \u001b[1;33m\u001b[0m\u001b[0m\n\u001b[0;32m     10\u001b[0m \u001b[1;31m#Print equation\u001b[0m\u001b[1;33m\u001b[0m\u001b[1;33m\u001b[0m\u001b[1;33m\u001b[0m\u001b[0m\n",
      "\u001b[1;31mIndexError\u001b[0m: list index out of range"
     ]
    }
   ],
   "source": [
    "# We define capital accumulation using the previuos expressions and solve for the steady state level of capital.\n",
    "\n",
    "#capital accumulation\n",
    "display(sm.Eq(k_plus,isolate_s))\n",
    "ca = sm.Eq(k_plus,isolate_s)\n",
    "\n",
    "#Steady state capital\n",
    "ssk = sm.solve(ca,k_t)[0]\n",
    "\n",
    "#Print equation\n",
    "print('The steady state level of capital is defined as:')\n",
    "display(sm.Eq(k,ssk))"
   ]
  },
  {
   "cell_type": "markdown",
   "metadata": {},
   "source": [
    "## Analytical solution"
   ]
  },
  {
   "cell_type": "code",
   "execution_count": 360,
   "metadata": {},
   "outputs": [
    {
     "output_type": "error",
     "ename": "SyntaxError",
     "evalue": "invalid syntax (<lambdifygenerated-41>, line 1)",
     "traceback": [
      "Traceback \u001b[1;36m(most recent call last)\u001b[0m:\n",
      "  File \u001b[0;32m\"C:\\Users\\Wiese\\anaconda3\\lib\\site-packages\\IPython\\core\\interactiveshell.py\"\u001b[0m, line \u001b[0;32m3437\u001b[0m, in \u001b[0;35mrun_code\u001b[0m\n    exec(code_obj, self.user_global_ns, self.user_ns)\n",
      "  File \u001b[0;32m\"<ipython-input-360-a998505371b0>\"\u001b[0m, line \u001b[0;32m2\u001b[0m, in \u001b[0;35m<module>\u001b[0m\n    ss_func = sm.lambdify((alpha,n,rho,A),ssk)\n",
      "\u001b[1;36m  File \u001b[1;32m\"C:\\Users\\Wiese\\anaconda3\\lib\\site-packages\\sympy\\utilities\\lambdify.py\"\u001b[1;36m, line \u001b[1;32m865\u001b[1;36m, in \u001b[1;35mlambdify\u001b[1;36m\u001b[0m\n\u001b[1;33m    c = compile(funcstr, filename, 'exec')\u001b[0m\n",
      "\u001b[1;36m  File \u001b[1;32m\"<lambdifygenerated-41>\"\u001b[1;36m, line \u001b[1;32m1\u001b[0m\n\u001b[1;33m    def _lambdifygenerated(alpha, 0.01, rho, A):\u001b[0m\n\u001b[1;37m                                  ^\u001b[0m\n\u001b[1;31mSyntaxError\u001b[0m\u001b[1;31m:\u001b[0m invalid syntax\n"
     ]
    }
   ],
   "source": [
    "#Create a function to determine capital level in steady state given a set of parameters\n",
    "ss_func = sm.lambdify((alpha,n,rho,A),ssk)\n",
    "\n",
    "# Assign arbitrary values to the parameters\n",
    "value_alpha = 1/4\n",
    "value_n = 0.025\n",
    "value_rho = 0.06\n",
    "value_A = 1\n",
    "\n",
    "#Run the function with the values\n",
    "res=ss_func(value_alpha,value_n,value_rho,value_A)\n",
    "\n",
    "#Print the results\n",
    "print('Given the parameters we find the steady state level of capital to be:')\n",
    "display(sm.Eq(k,round(res,ndigits=4)))"
   ]
  },
  {
   "source": [
    "We could also try running the same model but with no population growth"
   ],
   "cell_type": "markdown",
   "metadata": {}
  },
  {
   "cell_type": "code",
   "execution_count": 323,
   "metadata": {},
   "outputs": [
    {
     "output_type": "stream",
     "name": "stdout",
     "text": [
      "With no pop growth we find the steady state level of capital to be:\n"
     ]
    },
    {
     "output_type": "display_data",
     "data": {
      "text/plain": "Eq(k^*, 0.26)",
      "text/latex": "$\\displaystyle k^{*} = 0.26$"
     },
     "metadata": {}
    }
   ],
   "source": [
    "# Assign values again, but this time n=0\n",
    "value2_alpha = 1/4\n",
    "value2_n = 0\n",
    "value2_rho = 0.06\n",
    "value2_A = 1\n",
    "\n",
    "#Run the function with the values\n",
    "res2=ss_func(value2_alpha,value2_n,value2_rho,value2_A)\n",
    "\n",
    "#Print the results\n",
    "print('With no pop growth we find the steady state level of capital to be:')\n",
    "display(sm.Eq(k,round(res2,ndigits=4)))"
   ]
  },
  {
   "cell_type": "markdown",
   "metadata": {},
   "source": [
    "We can use **sympy** to find an analytical expression for the steady state, i.e. solve\n",
    "\n",
    "$$ \\tilde{k}^{\\ast}= \\frac{1}{(1+n)(1+g)}[sf(\\tilde{k}^{\\ast})+(1-\\delta)\\tilde{k}^{\\ast}] $$"
   ]
  },
  {
   "cell_type": "markdown",
   "metadata": {},
   "source": [
    "First we define all **symbols**:"
   ]
  },
  {
   "cell_type": "code",
   "execution_count": 324,
   "metadata": {},
   "outputs": [],
   "source": [
    "k = sm.symbols('k')\n",
    "alpha = sm.symbols('alpha')\n",
    "delta = sm.symbols('delta')\n",
    "s = sm.symbols('s')\n",
    "g = sm.symbols('g')\n",
    "n = sm.symbols('n')"
   ]
  },
  {
   "cell_type": "markdown",
   "metadata": {},
   "source": [
    "Then we define the **steady state equation**"
   ]
  },
  {
   "cell_type": "code",
   "execution_count": 325,
   "metadata": {},
   "outputs": [],
   "source": [
    "ss = sm.Eq(k,(s*k**alpha+(1-delta)*k)/((1+n)*(1+g)))"
   ]
  },
  {
   "cell_type": "markdown",
   "metadata": {},
   "source": [
    "and **solve** it"
   ]
  },
  {
   "cell_type": "code",
   "execution_count": 326,
   "metadata": {},
   "outputs": [
    {
     "output_type": "execute_result",
     "data": {
      "text/plain": [
       "((delta + g*n + g + n)/s)**(1/(alpha - 1))"
      ],
      "text/latex": "$\\displaystyle \\left(\\frac{\\delta + g n + g + n}{s}\\right)^{\\frac{1}{\\alpha - 1}}$"
     },
     "metadata": {},
     "execution_count": 326
    }
   ],
   "source": [
    "kss = sm.solve(ss,k)[0]\n",
    "kss"
   ]
  },
  {
   "cell_type": "markdown",
   "metadata": {},
   "source": [
    "For later use, we turn the solution into a **Python funciton**"
   ]
  },
  {
   "cell_type": "code",
   "execution_count": 327,
   "metadata": {},
   "outputs": [],
   "source": [
    "ss_func = sm.lambdify((s,g,n,alpha,delta),kss)"
   ]
  },
  {
   "cell_type": "markdown",
   "metadata": {},
   "source": [
    "## Numerical solution"
   ]
  },
  {
   "cell_type": "markdown",
   "metadata": {},
   "source": [
    "We can re-write the equation for the steady state capital per capita as\n",
    "\n",
    "\\\\[ 0 = \\frac{1}{(1+n)(1+g)}[sf(\\tilde{k}^{\\ast})+(1-\\delta)\\tilde{k}^{\\ast}] - \\tilde{k}^{\\ast} \\\\]\n",
    "\n",
    "whereby it clearly becomes a **root-finding problem**. Such a problem can be solved by a **bisection method**."
   ]
  },
  {
   "cell_type": "markdown",
   "metadata": {},
   "source": [
    "Define the model **parameters**:"
   ]
  },
  {
   "cell_type": "code",
   "execution_count": 328,
   "metadata": {},
   "outputs": [],
   "source": [
    "s = 0.2\n",
    "g = 0.02\n",
    "n = 0.01\n",
    "alpha = 1/3\n",
    "delta = 0.1"
   ]
  },
  {
   "cell_type": "markdown",
   "metadata": {},
   "source": [
    "**Solve numerically** for the steady state:"
   ]
  },
  {
   "cell_type": "code",
   "execution_count": 329,
   "metadata": {},
   "outputs": [
    {
     "output_type": "error",
     "ename": "NameError",
     "evalue": "name 'modelproject' is not defined",
     "traceback": [
      "\u001b[1;31m---------------------------------------------------------------------------\u001b[0m",
      "\u001b[1;31mNameError\u001b[0m                                 Traceback (most recent call last)",
      "\u001b[1;32m<ipython-input-329-a2d298fcc11a>\u001b[0m in \u001b[0;36m<module>\u001b[1;34m\u001b[0m\n\u001b[1;32m----> 1\u001b[1;33m \u001b[0msolution\u001b[0m \u001b[1;33m=\u001b[0m \u001b[0mmodelproject\u001b[0m\u001b[1;33m.\u001b[0m\u001b[0msolve_for_ss\u001b[0m\u001b[1;33m(\u001b[0m\u001b[0ms\u001b[0m\u001b[1;33m,\u001b[0m\u001b[0mg\u001b[0m\u001b[1;33m,\u001b[0m\u001b[0mn\u001b[0m\u001b[1;33m,\u001b[0m\u001b[0malpha\u001b[0m\u001b[1;33m,\u001b[0m\u001b[0mdelta\u001b[0m\u001b[1;33m)\u001b[0m\u001b[1;33m\u001b[0m\u001b[1;33m\u001b[0m\u001b[0m\n\u001b[0m\u001b[0;32m      2\u001b[0m \u001b[1;33m\u001b[0m\u001b[0m\n\u001b[0;32m      3\u001b[0m \u001b[0mprint\u001b[0m\u001b[1;33m(\u001b[0m\u001b[1;34mf'analytical solution is: {ss_func(s,g,n,alpha,delta):.3f}'\u001b[0m\u001b[1;33m)\u001b[0m\u001b[1;33m\u001b[0m\u001b[1;33m\u001b[0m\u001b[0m\n\u001b[0;32m      4\u001b[0m \u001b[0mprint\u001b[0m\u001b[1;33m(\u001b[0m\u001b[1;34mf' numerical solution is: {solution.root:.3f}'\u001b[0m\u001b[1;33m)\u001b[0m\u001b[1;33m\u001b[0m\u001b[1;33m\u001b[0m\u001b[0m\n",
      "\u001b[1;31mNameError\u001b[0m: name 'modelproject' is not defined"
     ]
    }
   ],
   "source": [
    "solution = modelproject.solve_for_ss(s,g,n,alpha,delta)\n",
    "\n",
    "print(f'analytical solution is: {ss_func(s,g,n,alpha,delta):.3f}')\n",
    "print(f' numerical solution is: {solution.root:.3f}')"
   ]
  },
  {
   "cell_type": "markdown",
   "metadata": {},
   "source": [
    "# Further analysis"
   ]
  },
  {
   "cell_type": "markdown",
   "metadata": {},
   "source": [
    "ADD FURTHER ANALYSIS, VISUALIZATIONS AND EXTENSIONS."
   ]
  },
  {
   "cell_type": "markdown",
   "metadata": {},
   "source": [
    "# Conclusion"
   ]
  },
  {
   "cell_type": "markdown",
   "metadata": {},
   "source": [
    "ADD CONCISE CONCLUSION."
   ]
  }
 ],
 "metadata": {
  "kernelspec": {
   "name": "python388jvsc74a57bd0ad2ef1b8dc6126dcccd5890446cc3332cf8d892646b78a8697ddfe72085d5c08",
   "display_name": "Python 3.8.8 64-bit ('base': conda)"
  },
  "language_info": {
   "codemirror_mode": {
    "name": "ipython",
    "version": 3
   },
   "file_extension": ".py",
   "mimetype": "text/x-python",
   "name": "python",
   "nbconvert_exporter": "python",
   "pygments_lexer": "ipython3",
   "version": "3.8.8"
  },
  "toc-autonumbering": true
 },
 "nbformat": 4,
 "nbformat_minor": 4
}