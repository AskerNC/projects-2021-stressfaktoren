{
 "cells": [
  {
   "cell_type": "markdown",
   "metadata": {},
   "source": [
    "# Model Project - OLG"
   ]
  },
  {
   "cell_type": "code",
   "execution_count": 312,
   "metadata": {},
   "outputs": [
    {
     "output_type": "stream",
     "name": "stdout",
     "text": [
      "The autoreload extension is already loaded. To reload it, use:\n  %reload_ext autoreload\n"
     ]
    }
   ],
   "source": [
    "import numpy as np\n",
    "from scipy import optimize\n",
    "import sympy as sm\n",
    "\n",
    "import matplotlib.pyplot as plt\n",
    "import ipywidgets as widgets\n",
    "\n",
    "# autoreload modules when code is run\n",
    "%load_ext autoreload\n",
    "%autoreload 2\n"
   ]
  },
  {
   "cell_type": "markdown",
   "metadata": {},
   "source": [
    "# Model description"
   ]
  },
  {
   "cell_type": "markdown",
   "metadata": {},
   "source": [
    "\n",
    "\n",
    "In this project we will first consider a an OLG model with a pay as you go system which we will later compare to an OLG model with a fully funded system.\n",
    "\n",
    "Individuals live for two periods and we assume constant population:\n",
    "\n",
    "$L_t=L_{t+1}$\n",
    "\n",
    "The lifetime utility of a household is defined as:\n",
    "\n",
    "$U_t=ln(c_{1t})+\\frac{1}{(1+\\rho)}ln(c_{2t+1}), \\ \\ \\rho>-1$\n",
    "\n",
    "This is subject to the following constraints:\n",
    "\n",
    "$c_{1t}=w_t(1-\\tau)-s_t$\n",
    "\n",
    "$c_{2t+1}=s_t(1+r_{t+1})+\\tau w_{t+1}$\n",
    "\n",
    "Thus the model has the following parameters:\n",
    "\n",
    "$L_t$: The population at time $t$\n",
    "\n",
    "$U_t$: Lifetime household utility\n",
    "\n",
    "$\\rho$: Consumption discount rate\n",
    "\n",
    "$c_{1t}$: Consumption of the young\n",
    "\n",
    "$c_{2t+1}$: Consumption of the old\n",
    "\n",
    "$w_t$: Wage\n",
    "\n",
    "$r_t$: Return on capital\n",
    "\n",
    "$s_t$: Savings"
   ]
  },
  {
   "cell_type": "code",
   "execution_count": 313,
   "metadata": {},
   "outputs": [],
   "source": [
    "# Define symbols for sympy\n",
    "K_t = sm.symbols('K_t')\n",
    "L_t = sm.symbols('L_t')\n",
    "A = sm.symbols('A')\n",
    "alpha = sm.symbols('alpha')\n",
    "delta = sm.symbols('delta')\n",
    "rho = sm.symbols('rho')\n",
    "w_t = sm.symbols('w_t')\n",
    "r_t = sm.symbols('r_t')\n",
    "k_t = sm.symbols('k_t')\n",
    "k_plus = sm.symbols('k_t+1')\n",
    "Pi = sm.symbols('Pi_t')\n",
    "\n",
    "s_t = sm.symbols('s_t')\n",
    "U_t = sm.symbols('U_t')\n",
    "U = sm.symbols('U_t')\n",
    "r_plus = sm.symbols('r_t+1')\n",
    "k = sm.symbols('k^*')\n",
    "\n",
    "d_t = sm.symbols('d_t')\n",
    "d_plus = sm.symbols('d_t+1')\n",
    "tau = sm.symbols('tau')\n",
    "s_payg = sm.symbols('s_payg')\n",
    "w_plus = sm.symbols('w_t+1')\n",
    "k_payg = sm.symbols('k_payg')\n",
    "U_payg = sm.symbols('U_paygt')\n",
    "kpaygss = sm.symbols('k_payg^*')"
   ]
  },
  {
   "cell_type": "code",
   "execution_count": 314,
   "metadata": {},
   "outputs": [
    {
     "output_type": "stream",
     "name": "stdout",
     "text": [
      "The profit of a given firm is defined as:\n"
     ]
    },
    {
     "output_type": "display_data",
     "data": {
      "text/plain": "Eq(Pi_t, A*K_t**alpha*L_t**(1 - alpha) - K_t*(delta + r_t) - L_t*w_t)",
      "text/latex": "$\\displaystyle \\Pi_{t} = A K_{t}^{\\alpha} L_{t}^{1 - \\alpha} - K_{t} \\left(\\delta + r_{t}\\right) - L_{t} w_{t}$"
     },
     "metadata": {}
    },
    {
     "output_type": "stream",
     "name": "stdout",
     "text": [
      "By taking the first order conditions to this, we get the expressions for w an r:\n"
     ]
    },
    {
     "output_type": "display_data",
     "data": {
      "text/plain": "Eq(r_t, A*K_t**alpha*L_t*L_t**(-alpha)*alpha/K_t - delta)",
      "text/latex": "$\\displaystyle r_{t} = \\frac{A K_{t}^{\\alpha} L_{t} L_{t}^{- \\alpha} \\alpha}{K_{t}} - \\delta$"
     },
     "metadata": {}
    },
    {
     "output_type": "display_data",
     "data": {
      "text/plain": "Eq(w_t, A*K_t**alpha*L_t**(-alpha)*(1 - alpha))",
      "text/latex": "$\\displaystyle w_{t} = A K_{t}^{\\alpha} L_{t}^{- \\alpha} \\left(1 - \\alpha\\right)$"
     },
     "metadata": {}
    }
   ],
   "source": [
    "#In order to derive the wage (w) and return on capital (r) we need to solve the firms profit maximization problem.\n",
    "\n",
    "#Define the profit function\n",
    "profit = A*(K_t**alpha)*(L_t**(1-alpha))-w_t*L_t-(r_t+delta)*K_t\n",
    "\n",
    "#Setup the FOC's\n",
    "foc1=sm.diff(profit,K_t)\n",
    "foc2=sm.diff(profit,L_t)\n",
    "\n",
    "#Solve FOC's\n",
    "solve_foc1=sm.solve(foc1,r_t)[0]\n",
    "solve_foc2=sm.solve(foc2,w_t)[0]\n",
    "\n",
    "#Print eqations\n",
    "print('The profit of a given firm is defined as:')\n",
    "display(sm.Eq(Pi,profit))\n",
    "print('By taking the first order conditions to this, we get the expressions for w an r:')\n",
    "display(sm.Eq(r_t,solve_foc1))\n",
    "display(sm.Eq(w_t,solve_foc2))"
   ]
  },
  {
   "source": [
    "We now assume full capital depreciation $\\delta=1$"
   ],
   "cell_type": "markdown",
   "metadata": {}
  },
  {
   "cell_type": "code",
   "execution_count": 315,
   "metadata": {},
   "outputs": [
    {
     "output_type": "stream",
     "name": "stdout",
     "text": [
      "By using the marginal products of capital and labour we can simplify these expressions to:\n"
     ]
    },
    {
     "output_type": "display_data",
     "data": {
      "text/plain": "Eq(r_t, A*alpha*k_t**(alpha - 1) - 1)",
      "text/latex": "$\\displaystyle r_{t} = A \\alpha k_{t}^{\\alpha - 1} - 1$"
     },
     "metadata": {}
    },
    {
     "output_type": "display_data",
     "data": {
      "text/plain": "Eq(w_t, A*k_t**alpha*(1 - alpha))",
      "text/latex": "$\\displaystyle w_{t} = A k_{t}^{\\alpha} \\left(1 - \\alpha\\right)$"
     },
     "metadata": {}
    }
   ],
   "source": [
    "#Setup equations\n",
    "sample_r=alpha*A*k_t**(alpha-1)-1\n",
    "sample_w=(1-alpha)*A*k_t**alpha\n",
    "\n",
    "#Display them\n",
    "print('By using the marginal products of capital and labour we can simplify these expressions to:')\n",
    "display(sm.Eq(r_t,sample_r))\n",
    "display(sm.Eq(w_t,sample_w))"
   ]
  },
  {
   "source": [
    "We now move unto the household optimization problem and determine the savings rate."
   ],
   "cell_type": "markdown",
   "metadata": {}
  },
  {
   "cell_type": "code",
   "execution_count": 316,
   "metadata": {},
   "outputs": [
    {
     "output_type": "stream",
     "name": "stdout",
     "text": [
      "Substitute the constraints into the utility function\n"
     ]
    },
    {
     "output_type": "display_data",
     "data": {
      "text/plain": "Eq(U_t, log(-s_t + w_t*(1 - tau)) + log(s_t*(r_t+1 + 1) + tau*w_t+1)/(rho + 1))",
      "text/latex": "$\\displaystyle U_{t} = \\log{\\left(- s_{t} + w_{t} \\left(1 - \\tau\\right) \\right)} + \\frac{\\log{\\left(s_{t} \\left(r_{t+1} + 1\\right) + \\tau w_{t+1} \\right)}}{\\rho + 1}$"
     },
     "metadata": {}
    },
    {
     "output_type": "stream",
     "name": "stdout",
     "text": [
      "Take the FOC in regards to savings:\n"
     ]
    },
    {
     "output_type": "display_data",
     "data": {
      "text/plain": "Eq(0, (r_t+1 + 1)/((rho + 1)*(s_t*(r_t+1 + 1) + tau*w_t+1)) - 1/(-s_t + w_t*(1 - tau)))",
      "text/latex": "$\\displaystyle 0 = \\frac{r_{t+1} + 1}{\\left(\\rho + 1\\right) \\left(s_{t} \\left(r_{t+1} + 1\\right) + \\tau w_{t+1}\\right)} - \\frac{1}{- s_{t} + w_{t} \\left(1 - \\tau\\right)}$"
     },
     "metadata": {}
    },
    {
     "output_type": "stream",
     "name": "stdout",
     "text": [
      "Isolate savings:\n"
     ]
    },
    {
     "output_type": "display_data",
     "data": {
      "text/plain": "Eq(s_t, (-r_t+1*tau*w_t + r_t+1*w_t - rho*tau*w_t+1 - tau*w_t - tau*w_t+1 + w_t)/(r_t+1*rho + 2*r_t+1 + rho + 2))",
      "text/latex": "$\\displaystyle s_{t} = \\frac{- r_{t+1} \\tau w_{t} + r_{t+1} w_{t} - \\rho \\tau w_{t+1} - \\tau w_{t} - \\tau w_{t+1} + w_{t}}{r_{t+1} \\rho + 2 r_{t+1} + \\rho + 2}$"
     },
     "metadata": {}
    },
    {
     "output_type": "stream",
     "name": "stdout",
     "text": [
      "we can simplify this to:\n"
     ]
    },
    {
     "output_type": "display_data",
     "data": {
      "text/plain": "Eq(s_t, -tau*w_t+1*(rho + 1)/((r_t+1 + 1)*(rho + 2)) + w_t*(1 - tau)/(rho + 2))",
      "text/latex": "$\\displaystyle s_{t} = - \\frac{\\tau w_{t+1} \\left(\\rho + 1\\right)}{\\left(r_{t+1} + 1\\right) \\left(\\rho + 2\\right)} + \\frac{w_{t} \\left(1 - \\tau\\right)}{\\rho + 2}$"
     },
     "metadata": {}
    }
   ],
   "source": [
    "#We solve the household optimization problem and determine savings (s)\n",
    "\n",
    "#Substitute constraints into utility function\n",
    "U_t = sm.log(w_t*(1-tau)-s_t)+(1/(1+rho))*sm.log(s_t*(1+r_plus)+tau*w_plus)\n",
    "\n",
    "#Take the FOC in regards to savings\n",
    "FOC_U = sm.diff(U_t,s_t)\n",
    "\n",
    "#Isolate savings\n",
    "isolate_s = sm.solve(FOC_U,s_t)[0]\n",
    "\n",
    "#Print results\n",
    "print('Substitute the constraints into the utility function')\n",
    "display(sm.Eq(U,U_t))\n",
    "print('Take the FOC in regards to savings:')\n",
    "display(sm.Eq(0,FOC_U))\n",
    "print('Isolate savings:')\n",
    "display(sm.Eq(s_t,isolate_s))\n",
    "print('we can simplify this to:')\n",
    "display(sm.Eq(s_t,-tau*w_plus*(rho+1)/((r_plus+1)*(rho+2))+w_t*(1-tau)/(rho+2)))\n"
   ]
  },
  {
   "cell_type": "markdown",
   "metadata": {},
   "source": [
    "# Steady state"
   ]
  },
  {
   "source": [
    "We now wish to determine the steady state level of capital $k^*$"
   ],
   "cell_type": "markdown",
   "metadata": {}
  },
  {
   "cell_type": "code",
   "execution_count": 317,
   "metadata": {},
   "outputs": [
    {
     "output_type": "stream",
     "name": "stdout",
     "text": [
      "capital accumulation is given by\n"
     ]
    },
    {
     "output_type": "display_data",
     "data": {
      "text/plain": "Eq(k_t+1, -tau*w_t+1*(rho + 1)/((r_t+1 + 1)*(rho + 2)) + w_t*(1 - tau)/(rho + 2))",
      "text/latex": "$\\displaystyle k_{t+1} = - \\frac{\\tau w_{t+1} \\left(\\rho + 1\\right)}{\\left(r_{t+1} + 1\\right) \\left(\\rho + 2\\right)} + \\frac{w_{t} \\left(1 - \\tau\\right)}{\\rho + 2}$"
     },
     "metadata": {}
    },
    {
     "output_type": "stream",
     "name": "stdout",
     "text": [
      "We insert the expressions for w and r and get\n"
     ]
    },
    {
     "output_type": "display_data",
     "data": {
      "text/plain": "Eq(k_t+1, A*k_t**alpha*(1 - alpha)*(1 - tau)/(rho + 2) - k_t+1**(1 - alpha)*tau*w_t+1*(rho + 1)/(A*alpha*(rho + 2)))",
      "text/latex": "$\\displaystyle k_{t+1} = \\frac{A k_{t}^{\\alpha} \\left(1 - \\alpha\\right) \\left(1 - \\tau\\right)}{\\rho + 2} - \\frac{k_{t+1}^{1 - \\alpha} \\tau w_{t+1} \\left(\\rho + 1\\right)}{A \\alpha \\left(\\rho + 2\\right)}$"
     },
     "metadata": {}
    }
   ],
   "source": [
    "# We define capital accumulation using the previuos expressions and solve for the steady state level of capital.\n",
    "\n",
    "#capital accumulation \n",
    "print('capital accumulation is given by')\n",
    "display(sm.Eq(k_plus,-tau*w_plus*(rho+1)/((r_plus+1)*(rho+2))+w_t*(1-tau)/(rho+2)))\n",
    "print('We insert the expressions for w and r and get')\n",
    "display(sm.Eq(k_plus,(A*k_t**(alpha)*(1-alpha)*(1-tau))/(rho+2)-(k_plus**(1-alpha)*tau*w_plus*(rho+1))/(A*alpha*(rho+2))))"
   ]
  },
  {
   "cell_type": "code",
   "execution_count": 318,
   "metadata": {},
   "outputs": [
    {
     "output_type": "execute_result",
     "data": {
      "text/plain": [
       "A*k_t**alpha*(1 - alpha)*(1 - tau)/((1 + tau*(1 - alpha)*(rho + 1)/(alpha*(rho + 2)))*(rho + 2))"
      ],
      "text/latex": "$\\displaystyle \\frac{A k_{t}^{\\alpha} \\left(1 - \\alpha\\right) \\left(1 - \\tau\\right)}{\\left(1 + \\frac{\\tau \\left(1 - \\alpha\\right) \\left(\\rho + 1\\right)}{\\alpha \\left(\\rho + 2\\right)}\\right) \\left(\\rho + 2\\right)}$"
     },
     "metadata": {},
     "execution_count": 318
    }
   ],
   "source": [
    "capital_accumulation = 1/(1+(1+rho)/(2+rho)*(1-alpha)/alpha*tau)*(((1-alpha)*(1-tau))/(2+rho)*A*k_t**alpha)\n",
    "capital_accumulation"
   ]
  },
  {
   "source": [
    "In the steady state it is true that \n",
    "\n",
    "$k_{t+1}=k_t=k^*$\n",
    "\n",
    "We can therefore rewrite the above to:"
   ],
   "cell_type": "markdown",
   "metadata": {}
  },
  {
   "cell_type": "code",
   "execution_count": 319,
   "metadata": {},
   "outputs": [
    {
     "output_type": "display_data",
     "data": {
      "text/plain": "Eq(k^*, (A*(1 - alpha)*(1 - tau)/((1 + tau*(1 - alpha)*(rho + 1)/(alpha*(rho + 2)))*(rho + 2)))**(1/(1 - alpha)))",
      "text/latex": "$\\displaystyle k^{*} = \\left(\\frac{A \\left(1 - \\alpha\\right) \\left(1 - \\tau\\right)}{\\left(1 + \\frac{\\tau \\left(1 - \\alpha\\right) \\left(\\rho + 1\\right)}{\\alpha \\left(\\rho + 2\\right)}\\right) \\left(\\rho + 2\\right)}\\right)^{\\frac{1}{1 - \\alpha}}$"
     },
     "metadata": {}
    }
   ],
   "source": [
    "#Define the steady state capital\n",
    "ssk=sm.Eq(k,(1/(1+(1+rho)/(2+rho)*(1-alpha)/(alpha)*tau)*((1-alpha)*(1-tau))/(2+rho)*A)**(1/(1-alpha)))\n",
    "display(ssk)\n"
   ]
  },
  {
   "cell_type": "markdown",
   "metadata": {},
   "source": [
    "## Analytical solution"
   ]
  },
  {
   "cell_type": "code",
   "execution_count": 320,
   "metadata": {},
   "outputs": [
    {
     "output_type": "stream",
     "name": "stdout",
     "text": [
      "Thus we find that the ss capital level, given the parameters, is: k^* = 0.29345335876374135\n"
     ]
    }
   ],
   "source": [
    "#Create a function to determine capital level in steady state given a set of parameters\n",
    "ssk_solve = sm.solve(ssk,k)\n",
    "ss_func = sm.lambdify((alpha,tau,rho,A),ssk_solve)\n",
    "\n",
    "# Assign arbitrary values to the parameters\n",
    "value_alpha = 0.20\n",
    "value_tau = 0.25\n",
    "value_rho = 0.1\n",
    "value_A = 2\n",
    "\n",
    "#Run the function with the values\n",
    "res=ss_func(value_alpha,value_tau,value_rho,value_A)\n",
    "\n",
    "#Display results\n",
    "print('Thus we find that the ss capital level, given the parameters, is: '+str(k)+' = '+str(res[0]))"
   ]
  },
  {
   "source": [
    "We can also check this by doing it manually."
   ],
   "cell_type": "markdown",
   "metadata": {}
  },
  {
   "cell_type": "code",
   "execution_count": 321,
   "metadata": {},
   "outputs": [
    {
     "output_type": "stream",
     "name": "stdout",
     "text": [
      "The steady state capital in the pay as you go model is: 0.29345335876374135\n"
     ]
    }
   ],
   "source": [
    "#Define function\n",
    "def ss_alt(alpha, tau, rho, A):\n",
    "    #Basically the equation for the steady state capital\n",
    "    return((1/(1+(1+rho)/(2+rho)*(1-alpha)/(alpha)*tau)*((1-alpha)*(1-tau))/(2+rho)*A)**(1/(1-alpha)))\n",
    "#Print results with given parameters\n",
    "print(f'The steady state capital in the pay as you go model is: '+str(ss_alt(value_alpha,value_tau,value_rho,value_A)))\n"
   ]
  },
  {
   "source": [
    "# Numerical solution"
   ],
   "cell_type": "markdown",
   "metadata": {}
  },
  {
   "cell_type": "code",
   "execution_count": 322,
   "metadata": {},
   "outputs": [
    {
     "output_type": "stream",
     "name": "stdout",
     "text": [
      "      converged: True\n           flag: 'converged'\n function_calls: 8\n     iterations: 7\n           root: 0.2934533587636173\nk^*=0.2935\n"
     ]
    }
   ],
   "source": [
    "#Define a lambda function for the capital accumulation function and optimize in regards to k\n",
    "obj_kpayg = lambda kpayg: kpayg - (1/(1+(1+value_rho)/(2+value_rho)*(1-value_alpha)/value_alpha*value_tau)*(((1-value_alpha)*(1-value_tau))/(2+value_rho)*value_A*kpayg**value_alpha))\n",
    "\n",
    "r_payg = optimize.root_scalar(obj_kpayg, bracket=[0.1, 100], method='brentq')\n",
    "\n",
    "#Print results\n",
    "print(r_payg)\n",
    "print(f'k^*={r_payg.root:.4f}')"
   ]
  },
  {
   "cell_type": "code",
   "execution_count": null,
   "metadata": {},
   "outputs": [],
   "source": []
  },
  {
   "source": [
    "Next an OLG model with a fully funded system is solved.\n",
    "The lifetime utility of a household is the same as in the pay as you go model:\n",
    "\n",
    "$U_t=ln(c_{1t})+\\frac{1}{(1+\\rho)}ln(c_{2t+1}), \\ \\ \\rho>-1$\n",
    "\n",
    "The constraint now looks as following, the government takes part of their wage and invest it. In period 2 they receive this amount plus the interest earned, plus any additional savings they have made:\n",
    "\n",
    "$c_{1t}=w_t(1-\\tau)-s_t$\n",
    "\n",
    "$c_{2t+1}=(s_t+w_t\\tau)(1+r_{t+1})$\n",
    "\n",
    "There is still full depreciation and a constant population. The firms maximisation problem does not change. \n",
    "\n",
    "The approach for solving this model is the same as for the pay as you go model."
   ],
   "cell_type": "markdown",
   "metadata": {}
  },
  {
   "cell_type": "code",
   "execution_count": 323,
   "metadata": {},
   "outputs": [
    {
     "output_type": "stream",
     "name": "stdout",
     "text": [
      "Substitute the constraints into the utility function\n"
     ]
    },
    {
     "output_type": "display_data",
     "data": {
      "text/plain": "Eq(U_t, log(-s_t + w_t*(1 - tau)) + log((r_t+1 + 1)*(s_t + tau*w_t))/(rho + 1))",
      "text/latex": "$\\displaystyle U_{t} = \\log{\\left(- s_{t} + w_{t} \\left(1 - \\tau\\right) \\right)} + \\frac{\\log{\\left(\\left(r_{t+1} + 1\\right) \\left(s_{t} + \\tau w_{t}\\right) \\right)}}{\\rho + 1}$"
     },
     "metadata": {}
    },
    {
     "output_type": "stream",
     "name": "stdout",
     "text": [
      "Take the FOC in regards to savings:\n"
     ]
    },
    {
     "output_type": "display_data",
     "data": {
      "text/plain": "Eq(0, -1/(-s_t + w_t*(1 - tau)) + 1/((rho + 1)*(s_t + tau*w_t)))",
      "text/latex": "$\\displaystyle 0 = - \\frac{1}{- s_{t} + w_{t} \\left(1 - \\tau\\right)} + \\frac{1}{\\left(\\rho + 1\\right) \\left(s_{t} + \\tau w_{t}\\right)}$"
     },
     "metadata": {}
    },
    {
     "output_type": "stream",
     "name": "stdout",
     "text": [
      "Isolate savings:\n"
     ]
    },
    {
     "output_type": "display_data",
     "data": {
      "text/plain": "Eq(s_t, w_t*(-rho*tau - 2*tau + 1)/(rho + 2))",
      "text/latex": "$\\displaystyle s_{t} = \\frac{w_{t} \\left(- \\rho \\tau - 2 \\tau + 1\\right)}{\\rho + 2}$"
     },
     "metadata": {}
    },
    {
     "output_type": "stream",
     "name": "stdout",
     "text": [
      "Reduce this to:\n"
     ]
    },
    {
     "output_type": "display_data",
     "data": {
      "text/plain": "Eq(s_t, w_t*(-tau + 1/(rho + 2)))",
      "text/latex": "$\\displaystyle s_{t} = w_{t} \\left(- \\tau + \\frac{1}{\\rho + 2}\\right)$"
     },
     "metadata": {}
    },
    {
     "output_type": "stream",
     "name": "stdout",
     "text": [
      "Substitute in wage:\n"
     ]
    },
    {
     "output_type": "display_data",
     "data": {
      "text/plain": "Eq(s_t, A*k_t**alpha*(1 - alpha)*(-tau + 1/(rho + 2)))",
      "text/latex": "$\\displaystyle s_{t} = A k_{t}^{\\alpha} \\left(1 - \\alpha\\right) \\left(- \\tau + \\frac{1}{\\rho + 2}\\right)$"
     },
     "metadata": {}
    },
    {
     "output_type": "stream",
     "name": "stdout",
     "text": [
      "From this we can get the capital accumulation expression\n"
     ]
    },
    {
     "output_type": "display_data",
     "data": {
      "text/plain": "Eq(k_t+1, A*k_t**alpha*(1 - alpha)*(-tau + 1/(rho + 2)))",
      "text/latex": "$\\displaystyle k_{t+1} = A k_{t}^{\\alpha} \\left(1 - \\alpha\\right) \\left(- \\tau + \\frac{1}{\\rho + 2}\\right)$"
     },
     "metadata": {}
    }
   ],
   "source": [
    "#We solve the household optimization problem and determine savings (s)\n",
    "\n",
    "#Substitute constraints into utility function\n",
    "U_t2 = sm.log(w_t*(1-tau)-s_t)+(1/(1+rho))*sm.log((s_t+w_t*tau)*(1+r_plus))\n",
    "\n",
    "#Take the FOC in regards to savings\n",
    "FOC_U2 = sm.diff(U_t2,s_t)\n",
    "\n",
    "#Isolate savings\n",
    "isolate_s2 = sm.solve(FOC_U2,s_t)[0]\n",
    "\n",
    "#Print results\n",
    "print('Substitute the constraints into the utility function')\n",
    "display(sm.Eq(U,U_t2))\n",
    "print('Take the FOC in regards to savings:')\n",
    "display(sm.Eq(0,FOC_U2))\n",
    "print('Isolate savings:')\n",
    "display(sm.Eq(s_t,isolate_s2))\n",
    "\n",
    "#Reducing\n",
    "print('Reduce this to:')\n",
    "s2 = w_t*(1/(2+rho)-tau)\n",
    "s2 = sm.Eq(s_t,s2)\n",
    "display(s2)\n",
    "\n",
    "print('Substitute in wage:')\n",
    "display(s2.subs(w_t, sample_w))\n",
    "\n",
    "#Substitute in k_t\n",
    "cap=s2.subs(w_t, sample_w)\n",
    "\n",
    "#Display the cap accum\n",
    "print('From this we can get the capital accumulation expression')\n",
    "display(cap.subs(s_t, k_plus))"
   ]
  },
  {
   "source": [],
   "cell_type": "markdown",
   "metadata": {}
  },
  {
   "source": [
    "In the steady state it is true that \n",
    "\n",
    "$k_{t+1}=k_t=k^*$\n",
    "\n",
    "We can therefore rewrite the above to:"
   ],
   "cell_type": "markdown",
   "metadata": {}
  },
  {
   "cell_type": "code",
   "execution_count": 324,
   "metadata": {},
   "outputs": [
    {
     "output_type": "display_data",
     "data": {
      "text/plain": "Eq(k^*, (A*(alpha*rho*tau + 2*alpha*tau - alpha - rho*tau - 2*tau + 1)/(rho + 2))**(-1/(alpha - 1)))",
      "text/latex": "$\\displaystyle k^{*} = \\left(\\frac{A \\left(\\alpha \\rho \\tau + 2 \\alpha \\tau - \\alpha - \\rho \\tau - 2 \\tau + 1\\right)}{\\rho + 2}\\right)^{- \\frac{1}{\\alpha - 1}}$"
     },
     "metadata": {}
    }
   ],
   "source": [
    "#Define the steady state capital expression\n",
    "ssk2=sm.Eq(k,((A*(alpha*rho*tau+2*alpha*tau-alpha-rho*tau-2*tau+1))/(rho+2))**(-1/(alpha-1)))\n",
    "#display it\n",
    "display(ssk2)\n"
   ]
  },
  {
   "cell_type": "code",
   "execution_count": 325,
   "metadata": {},
   "outputs": [
    {
     "output_type": "stream",
     "name": "stdout",
     "text": [
      "Thus we find that the ss capital level, given the parameters, is: k^* = 0.28070029686156567\n"
     ]
    }
   ],
   "source": [
    "#Create a function to determine capital level in steady state given a set of parameters\n",
    "ssk_solve2 = sm.solve(ssk2,k)\n",
    "ss_func2 = sm.lambdify((alpha,tau,rho,A),ssk_solve2)\n",
    "\n",
    "#Run the function with the values\n",
    "res2=ss_func2(value_alpha,value_tau,value_rho,value_A)\n",
    "\n",
    "#Display results\n",
    "print('Thus we find that the ss capital level, given the parameters, is: '+str(k)+' = '+str(res2[0]))\n"
   ]
  },
  {
   "source": [
    "We now run the nummerical analysis"
   ],
   "cell_type": "markdown",
   "metadata": {}
  },
  {
   "cell_type": "code",
   "execution_count": 326,
   "metadata": {},
   "outputs": [
    {
     "output_type": "display_data",
     "data": {
      "text/plain": "Eq(k_t+1, A*k_t**alpha*(1 - alpha)*(-tau + 1/(rho + 2)))",
      "text/latex": "$\\displaystyle k_{t+1} = A k_{t}^{\\alpha} \\left(1 - \\alpha\\right) \\left(- \\tau + \\frac{1}{\\rho + 2}\\right)$"
     },
     "metadata": {}
    },
    {
     "output_type": "display_data",
     "data": {
      "text/plain": "A*k_t**alpha*(1 - alpha)*(-tau + 1/(rho + 2))",
      "text/latex": "$\\displaystyle A k_{t}^{\\alpha} \\left(1 - \\alpha\\right) \\left(- \\tau + \\frac{1}{\\rho + 2}\\right)$"
     },
     "metadata": {}
    }
   ],
   "source": [
    "display(cap.subs(s_t, k_plus))\n",
    "display((A*k_t**alpha*(1-alpha))*(-tau+1/(rho+2)))"
   ]
  },
  {
   "cell_type": "code",
   "execution_count": 327,
   "metadata": {},
   "outputs": [
    {
     "output_type": "stream",
     "name": "stdout",
     "text": [
      "      converged: True\n           flag: 'converged'\n function_calls: 8\n     iterations: 7\n           root: 0.2807002968610902\nk^*=0.2807\n"
     ]
    }
   ],
   "source": [
    "#Define a lambda function for the capital accumulation function and optimize in regards to k\n",
    "obj_kff = lambda kff: kff - ((value_A*kff**value_alpha*(1-value_alpha))*(-value_tau+1/(value_rho+2)))\n",
    "\n",
    "r_ff = optimize.root_scalar(obj_kff, bracket=[0.1, 100], method='brentq')\n",
    "\n",
    "#Print results\n",
    "print(r_ff)\n",
    "print(f'k^*={r_ff.root:.4f}')"
   ]
  },
  {
   "source": [
    "From this we see that in the payg system there was a capital level of 0.293 and in the fully funded it was 0.281. It would therefore seem that with the given parameters that the capital level is higher in the payg-model.\n",
    "\n",
    "One could furthermore try to change the parameters, like the tax level to observe the changes which we will do now."
   ],
   "cell_type": "markdown",
   "metadata": {}
  },
  {
   "cell_type": "code",
   "execution_count": 328,
   "metadata": {},
   "outputs": [
    {
     "output_type": "stream",
     "name": "stdout",
     "text": [
      "For a tax value of 35% we observe in the payg-system: \nk^*=0.2089\nAnd in the fully funded system we observe: \nk^*=0.1353\n"
     ]
    }
   ],
   "source": [
    "# Assign a new tax value (tau)\n",
    "value_tau = 0.35\n",
    "\n",
    "#Numerical for payg with new tax level\n",
    "obj_kpayg = lambda kpayg: kpayg - (1/(1+(1+value_rho)/(2+value_rho)*(1-value_alpha)/value_alpha*value_tau)*(((1-value_alpha)*(1-value_tau))/(2+value_rho)*value_A*kpayg**value_alpha))\n",
    "\n",
    "r_payg = optimize.root_scalar(obj_kpayg, bracket=[0.1, 100], method='brentq')\n",
    "\n",
    "#Print results\n",
    "print('For a tax value of 35% we observe in the payg-system: ')\n",
    "print(f'k^*={r_payg.root:.4f}')\n",
    "\n",
    "#numerical for ff with new tax level\n",
    "obj_kff = lambda kff: kff - ((value_A*kff**value_alpha*(1-value_alpha))*(-value_tau+1/(value_rho+2)))\n",
    "\n",
    "r_ff = optimize.root_scalar(obj_kff, bracket=[0.1, 100], method='brentq')\n",
    "\n",
    "#Print results\n",
    "print('And in the fully funded system we observe: ')\n",
    "print(f'k^*={r_ff.root:.4f}')"
   ]
  },
  {
   "cell_type": "code",
   "execution_count": 329,
   "metadata": {},
   "outputs": [
    {
     "output_type": "stream",
     "name": "stdout",
     "text": [
      "For a tax value of 5% we observe in the payg-system: \nk^*=0.5894\nAnd in the fully funded system we observe: \nk^*=0.6197\n"
     ]
    }
   ],
   "source": [
    "# Assign a new tax value (tau)\n",
    "value_tau = 0.05\n",
    "\n",
    "#Numerical for payg with new tax level\n",
    "obj_kpayg = lambda kpayg: kpayg - (1/(1+(1+value_rho)/(2+value_rho)*(1-value_alpha)/value_alpha*value_tau)*(((1-value_alpha)*(1-value_tau))/(2+value_rho)*value_A*kpayg**value_alpha))\n",
    "\n",
    "r_payg = optimize.root_scalar(obj_kpayg, bracket=[0.1, 100], method='brentq')\n",
    "\n",
    "#Print results\n",
    "print('For a tax value of 5% we observe in the payg-system: ')\n",
    "print(f'k^*={r_payg.root:.4f}')\n",
    "\n",
    "#numerical for ff with new tax level\n",
    "obj_kff = lambda kff: kff - ((value_A*kff**value_alpha*(1-value_alpha))*(-value_tau+1/(value_rho+2)))\n",
    "\n",
    "r_ff = optimize.root_scalar(obj_kff, bracket=[0.1, 100], method='brentq')\n",
    "\n",
    "#Print results\n",
    "print('And in the fully funded system we observe: ')\n",
    "print(f'k^*={r_ff.root:.4f}')"
   ]
  },
  {
   "source": [
    "From these results it would seem that capital levels in the fully funded system are actually higher given that the tax is low.\n",
    "It would therefore seem that by increasing taxes the capital levels in both systems fall, but that the fully funded system falls at a greater rate than the payg-system.\n",
    "\n",
    "In conclusion taxes seems to affect the fully funded system more severely than the payg-system."
   ],
   "cell_type": "markdown",
   "metadata": {}
  }
 ],
 "metadata": {
  "kernelspec": {
   "name": "python388jvsc74a57bd0ad2ef1b8dc6126dcccd5890446cc3332cf8d892646b78a8697ddfe72085d5c08",
   "display_name": "Python 3.8.8 64-bit ('base': conda)"
  },
  "language_info": {
   "codemirror_mode": {
    "name": "ipython",
    "version": 3
   },
   "file_extension": ".py",
   "mimetype": "text/x-python",
   "name": "python",
   "nbconvert_exporter": "python",
   "pygments_lexer": "ipython3",
   "version": "3.8.8"
  },
  "toc-autonumbering": true
 },
 "nbformat": 4,
 "nbformat_minor": 4
}