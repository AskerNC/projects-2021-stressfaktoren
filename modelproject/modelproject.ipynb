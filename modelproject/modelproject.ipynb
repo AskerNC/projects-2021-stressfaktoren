{
 "cells": [
  {
   "cell_type": "markdown",
   "metadata": {},
   "source": [
    "# Model Project - OLG"
   ]
  },
  {
   "cell_type": "code",
   "execution_count": 2,
   "metadata": {},
   "outputs": [],
   "source": [
    "import numpy as np\n",
    "from scipy import optimize\n",
    "import sympy as sm\n",
    "\n",
    "import matplotlib.pyplot as plt\n",
    "import ipywidgets as widgets\n",
    "\n",
    "# autoreload modules when code is run\n",
    "%load_ext autoreload\n",
    "%autoreload 2\n"
   ]
  },
  {
   "cell_type": "markdown",
   "metadata": {},
   "source": [
    "# Model description"
   ]
  },
  {
   "cell_type": "markdown",
   "metadata": {},
   "source": [
    "\n",
    "\n",
    "In this project we will first consider a an OLG model with a pay as you go system which we will later compare to an OLG model with a fully funded system.\n",
    "\n",
    "Individuals live for two periods and we assume constant population:\n",
    "\n",
    "$L_t=L_{t+1}$\n",
    "\n",
    "The lifetime utility of a household is defined as:\n",
    "\n",
    "$U_t=ln(c_{1t})+\\frac{1}{(1+\\rho)}ln(c_{2t+1}), \\ \\ \\rho>-1$\n",
    "\n",
    "This is subject to the following constraints:\n",
    "\n",
    "$c_{1t}=w_t(1-\\tau)-s_t$\n",
    "\n",
    "$c_{2t+1}=s_t(1+r_{t+1})+\\tau w_{t+1}$\n",
    "\n",
    "Thus the model has the following parameters:\n",
    "\n",
    "$L_t$: The population at time $t$\n",
    "\n",
    "$U_t$: Lifetime household utility\n",
    "\n",
    "$\\rho$: Consumption discount rate\n",
    "\n",
    "$c_{1t}$: Consumption of the young\n",
    "\n",
    "$c_{2t+1}$: Consumption of the old\n",
    "\n",
    "$w_t$: Wage\n",
    "\n",
    "$r_t$: Return on capital\n",
    "\n",
    "$s_t$: Savings"
   ]
  },
  {
   "cell_type": "code",
   "execution_count": 3,
   "metadata": {},
   "outputs": [],
   "source": [
    "# Define symbols for sympy\n",
    "K_t = sm.symbols('K_t')\n",
    "L_t = sm.symbols('L_t')\n",
    "A = sm.symbols('A')\n",
    "alpha = sm.symbols('alpha')\n",
    "delta = sm.symbols('delta')\n",
    "rho = sm.symbols('rho')\n",
    "w_t = sm.symbols('w_t')\n",
    "r_t = sm.symbols('r_t')\n",
    "k_t = sm.symbols('k_t')\n",
    "k_plus = sm.symbols('k_t+1')\n",
    "Pi = sm.symbols('Pi_t')\n",
    "\n",
    "s_t = sm.symbols('s_t')\n",
    "U_t = sm.symbols('U_t')\n",
    "U = sm.symbols('U_t')\n",
    "r_plus = sm.symbols('r_t+1')\n",
    "k = sm.symbols('k^*')\n",
    "\n",
    "d_t = sm.symbols('d_t')\n",
    "d_plus = sm.symbols('d_t+1')\n",
    "tau = sm.symbols('tau')\n",
    "s_payg = sm.symbols('s_payg')\n",
    "w_plus = sm.symbols('w_t+1')\n",
    "k_payg = sm.symbols('k_payg')\n",
    "U_payg = sm.symbols('U_paygt')\n",
    "kpaygss = sm.symbols('k_payg^*')"
   ]
  },
  {
   "cell_type": "code",
   "execution_count": 4,
   "metadata": {},
   "outputs": [
    {
     "output_type": "stream",
     "name": "stdout",
     "text": [
      "The profit of a given firm is defined as:\n"
     ]
    },
    {
     "output_type": "display_data",
     "data": {
      "text/plain": "Eq(Pi_t, A*K_t**alpha*L_t**(1 - alpha) - K_t*(delta + r_t) - L_t*w_t)",
      "text/latex": "$\\displaystyle \\Pi_{t} = A K_{t}^{\\alpha} L_{t}^{1 - \\alpha} - K_{t} \\left(\\delta + r_{t}\\right) - L_{t} w_{t}$"
     },
     "metadata": {}
    },
    {
     "output_type": "stream",
     "name": "stdout",
     "text": [
      "By taking the first order conditions to this, we get the expressions for w an r:\n"
     ]
    },
    {
     "output_type": "display_data",
     "data": {
      "text/plain": "Eq(r_t, A*K_t**alpha*L_t*L_t**(-alpha)*alpha/K_t - delta)",
      "text/latex": "$\\displaystyle r_{t} = \\frac{A K_{t}^{\\alpha} L_{t} L_{t}^{- \\alpha} \\alpha}{K_{t}} - \\delta$"
     },
     "metadata": {}
    },
    {
     "output_type": "display_data",
     "data": {
      "text/plain": "Eq(w_t, -A*K_t**alpha*L_t**(-alpha)*(alpha - 1))",
      "text/latex": "$\\displaystyle w_{t} = - A K_{t}^{\\alpha} L_{t}^{- \\alpha} \\left(\\alpha - 1\\right)$"
     },
     "metadata": {}
    }
   ],
   "source": [
    "#In order to derive the wage (w) and return on capital (r) we need to solve the firms profit maximization problem.\n",
    "\n",
    "#Define the profit function\n",
    "profit = A*(K_t**alpha)*(L_t**(1-alpha))-w_t*L_t-(r_t+delta)*K_t\n",
    "\n",
    "#Setup the FOC's\n",
    "foc1=sm.diff(profit,K_t)\n",
    "foc2=sm.diff(profit,L_t)\n",
    "\n",
    "#Solve FOC's\n",
    "solve_foc1=sm.solve(foc1,r_t)[0]\n",
    "solve_foc2=sm.solve(foc2,w_t)[0]\n",
    "\n",
    "#Print eqations\n",
    "print('The profit of a given firm is defined as:')\n",
    "display(sm.Eq(Pi,profit))\n",
    "print('By taking the first order conditions to this, we get the expressions for w an r:')\n",
    "display(sm.Eq(r_t,solve_foc1))\n",
    "display(sm.Eq(w_t,solve_foc2))"
   ]
  },
  {
   "source": [
    "We now assume full capital depreciation $\\delta=1$"
   ],
   "cell_type": "markdown",
   "metadata": {}
  },
  {
   "cell_type": "code",
   "execution_count": 5,
   "metadata": {},
   "outputs": [
    {
     "output_type": "stream",
     "name": "stdout",
     "text": [
      "By using the marginal products of capital and labour we can simplify these expressions to:\n"
     ]
    },
    {
     "output_type": "display_data",
     "data": {
      "text/plain": "Eq(r_t, A*alpha*k_t**(alpha - 1) - 1)",
      "text/latex": "$\\displaystyle r_{t} = A \\alpha k_{t}^{\\alpha - 1} - 1$"
     },
     "metadata": {}
    },
    {
     "output_type": "display_data",
     "data": {
      "text/plain": "Eq(w_t, A*k_t**alpha*(1 - alpha))",
      "text/latex": "$\\displaystyle w_{t} = A k_{t}^{\\alpha} \\left(1 - \\alpha\\right)$"
     },
     "metadata": {}
    }
   ],
   "source": [
    "#Setup equations\n",
    "sample_r=alpha*A*k_t**(alpha-1)-1\n",
    "sample_w=(1-alpha)*A*k_t**alpha\n",
    "\n",
    "#Display them\n",
    "print('By using the marginal products of capital and labour we can simplify these expressions to:')\n",
    "display(sm.Eq(r_t,sample_r))\n",
    "display(sm.Eq(w_t,sample_w))"
   ]
  },
  {
   "source": [
    "We now move unto the household optimization problem and determine the savings rate."
   ],
   "cell_type": "markdown",
   "metadata": {}
  },
  {
   "cell_type": "code",
   "execution_count": 6,
   "metadata": {},
   "outputs": [
    {
     "output_type": "stream",
     "name": "stdout",
     "text": [
      "Substitute the constraints into the utility function\n"
     ]
    },
    {
     "output_type": "display_data",
     "data": {
      "text/plain": "Eq(U_t, log(-s_t + w_t*(1 - tau)) + log(s_t*(r_t+1 + 1) + tau*w_t+1)/(rho + 1))",
      "text/latex": "$\\displaystyle U_{t} = \\log{\\left(- s_{t} + w_{t} \\left(1 - \\tau\\right) \\right)} + \\frac{\\log{\\left(s_{t} \\left(r_{t+1} + 1\\right) + \\tau w_{t+1} \\right)}}{\\rho + 1}$"
     },
     "metadata": {}
    },
    {
     "output_type": "stream",
     "name": "stdout",
     "text": [
      "Take the FOC in regards to savings:\n"
     ]
    },
    {
     "output_type": "display_data",
     "data": {
      "text/plain": "Eq(0, (r_t+1 + 1)/((rho + 1)*(s_t*(r_t+1 + 1) + tau*w_t+1)) - 1/(-s_t + w_t*(1 - tau)))",
      "text/latex": "$\\displaystyle 0 = \\frac{r_{t+1} + 1}{\\left(\\rho + 1\\right) \\left(s_{t} \\left(r_{t+1} + 1\\right) + \\tau w_{t+1}\\right)} - \\frac{1}{- s_{t} + w_{t} \\left(1 - \\tau\\right)}$"
     },
     "metadata": {}
    },
    {
     "output_type": "stream",
     "name": "stdout",
     "text": [
      "Isolate savings:\n"
     ]
    },
    {
     "output_type": "display_data",
     "data": {
      "text/plain": "Eq(s_t, (-r_t+1*tau*w_t + r_t+1*w_t - rho*tau*w_t+1 - tau*w_t - tau*w_t+1 + w_t)/(r_t+1*rho + 2*r_t+1 + rho + 2))",
      "text/latex": "$\\displaystyle s_{t} = \\frac{- r_{t+1} \\tau w_{t} + r_{t+1} w_{t} - \\rho \\tau w_{t+1} - \\tau w_{t} - \\tau w_{t+1} + w_{t}}{r_{t+1} \\rho + 2 r_{t+1} + \\rho + 2}$"
     },
     "metadata": {}
    },
    {
     "output_type": "stream",
     "name": "stdout",
     "text": [
      "we can simplify this to:\n"
     ]
    },
    {
     "output_type": "display_data",
     "data": {
      "text/plain": "Eq(s_t, -tau*w_t+1*(rho + 1)/((r_t+1 + 1)*(rho + 2)) + w_t*(1 - tau)/(rho + 2))",
      "text/latex": "$\\displaystyle s_{t} = - \\frac{\\tau w_{t+1} \\left(\\rho + 1\\right)}{\\left(r_{t+1} + 1\\right) \\left(\\rho + 2\\right)} + \\frac{w_{t} \\left(1 - \\tau\\right)}{\\rho + 2}$"
     },
     "metadata": {}
    }
   ],
   "source": [
    "#We solve the household optimization problem and determine savings (s)\n",
    "\n",
    "#Substitute constraints into utility function\n",
    "U_t = sm.log(w_t*(1-tau)-s_t)+(1/(1+rho))*sm.log(s_t*(1+r_plus)+tau*w_plus)\n",
    "\n",
    "#Take the FOC in regards to savings\n",
    "FOC_U = sm.diff(U_t,s_t)\n",
    "\n",
    "#Isolate savings\n",
    "isolate_s = sm.solve(FOC_U,s_t)[0]\n",
    "\n",
    "#Print results\n",
    "print('Substitute the constraints into the utility function')\n",
    "display(sm.Eq(U,U_t))\n",
    "print('Take the FOC in regards to savings:')\n",
    "display(sm.Eq(0,FOC_U))\n",
    "print('Isolate savings:')\n",
    "display(sm.Eq(s_t,isolate_s))\n",
    "print('we can simplify this to:')\n",
    "display(sm.Eq(s_t,-tau*w_plus*(rho+1)/((r_plus+1)*(rho+2))+w_t*(1-tau)/(rho+2)))\n"
   ]
  },
  {
   "cell_type": "markdown",
   "metadata": {},
   "source": [
    "# Steady state"
   ]
  },
  {
   "source": [
    "We now wish to determine the steady state level of capital $k^*$"
   ],
   "cell_type": "markdown",
   "metadata": {}
  },
  {
   "cell_type": "code",
   "execution_count": 7,
   "metadata": {},
   "outputs": [
    {
     "output_type": "stream",
     "name": "stdout",
     "text": [
      "capital accumulation is given by\n"
     ]
    },
    {
     "output_type": "display_data",
     "data": {
      "text/plain": "Eq(k_t+1, -tau*w_t+1*(rho + 1)/((r_t+1 + 1)*(rho + 2)) + w_t*(1 - tau)/(rho + 2))",
      "text/latex": "$\\displaystyle k_{t+1} = - \\frac{\\tau w_{t+1} \\left(\\rho + 1\\right)}{\\left(r_{t+1} + 1\\right) \\left(\\rho + 2\\right)} + \\frac{w_{t} \\left(1 - \\tau\\right)}{\\rho + 2}$"
     },
     "metadata": {}
    },
    {
     "output_type": "stream",
     "name": "stdout",
     "text": [
      "We insert the expressions for w and r and get\n"
     ]
    },
    {
     "output_type": "display_data",
     "data": {
      "text/plain": "Eq(k_t+1, A*k_t**alpha*(1 - alpha)*(1 - tau)/(rho + 2) - k_t+1**(1 - alpha)*tau*w_t+1*(rho + 1)/(A*alpha*(rho + 2)))",
      "text/latex": "$\\displaystyle k_{t+1} = \\frac{A k_{t}^{\\alpha} \\left(1 - \\alpha\\right) \\left(1 - \\tau\\right)}{\\rho + 2} - \\frac{k_{t+1}^{1 - \\alpha} \\tau w_{t+1} \\left(\\rho + 1\\right)}{A \\alpha \\left(\\rho + 2\\right)}$"
     },
     "metadata": {}
    }
   ],
   "source": [
    "# We define capital accumulation using the previuos expressions and solve for the steady state level of capital.\n",
    "\n",
    "#capital accumulation \n",
    "print('capital accumulation is given by')\n",
    "display(sm.Eq(k_plus,-tau*w_plus*(rho+1)/((r_plus+1)*(rho+2))+w_t*(1-tau)/(rho+2)))\n",
    "print('We insert the expressions for w and r and get')\n",
    "display(sm.Eq(k_plus,(A*k_t**(alpha)*(1-alpha)*(1-tau))/(rho+2)-(k_plus**(1-alpha)*tau*w_plus*(rho+1))/(A*alpha*(rho+2))))"
   ]
  },
  {
   "source": [
    "In the steady state it is true that \n",
    "\n",
    "$k_{t+1}=k_t=k^*$\n",
    "\n",
    "We can therefore rewrite the above to:"
   ],
   "cell_type": "markdown",
   "metadata": {}
  },
  {
   "cell_type": "code",
   "execution_count": 8,
   "metadata": {},
   "outputs": [
    {
     "output_type": "display_data",
     "data": {
      "text/plain": "Eq(k^*, (A*(1 - alpha)*(1 - tau)/((1 + tau*(1 - alpha)*(rho + 1)/(alpha*(rho + 2)))*(rho + 2)))**(1/(1 - alpha)))",
      "text/latex": "$\\displaystyle k^{*} = \\left(\\frac{A \\left(1 - \\alpha\\right) \\left(1 - \\tau\\right)}{\\left(1 + \\frac{\\tau \\left(1 - \\alpha\\right) \\left(\\rho + 1\\right)}{\\alpha \\left(\\rho + 2\\right)}\\right) \\left(\\rho + 2\\right)}\\right)^{\\frac{1}{1 - \\alpha}}$"
     },
     "metadata": {}
    }
   ],
   "source": [
    "display(sm.Eq(k,(1/(1+(1+rho)/(2+rho)*(1-alpha)/(alpha)*tau)*((1-alpha)*(1-tau))/(2+rho)*A)**(1/(1-alpha))))"
   ]
  },
  {
   "cell_type": "code",
   "execution_count": 9,
   "metadata": {},
   "outputs": [],
   "source": [
    "#Define the steady state capital\n",
    "ssk=sm.Eq(k_t,(1/(1+(1+rho)/(2+rho)*(1-alpha)/(alpha)*tau)*((1-alpha)*(1-tau))/(2+rho)*A)**-(1/(alpha-1)))\n",
    "ssk_solve = sm.solve(ssk,k_t)"
   ]
  },
  {
   "cell_type": "markdown",
   "metadata": {},
   "source": [
    "## Analytical solution"
   ]
  },
  {
   "cell_type": "code",
   "execution_count": 12,
   "metadata": {},
   "outputs": [
    {
     "output_type": "error",
     "ename": "SyntaxError",
     "evalue": "unmatched ')' (<ipython-input-12-7c92fdc9a7da>, line 5)",
     "traceback": [
      "\u001b[1;36m  File \u001b[1;32m\"<ipython-input-12-7c92fdc9a7da>\"\u001b[1;36m, line \u001b[1;32m5\u001b[0m\n\u001b[1;33m    return(((A*(1-alpha)*(1-tau)))/(1+(tau*(1-alpha)*(rho+1))/(alpha*(rho+2))*(rho+2)))**(1/(1-alpha)))\u001b[0m\n\u001b[1;37m                                                                                                      ^\u001b[0m\n\u001b[1;31mSyntaxError\u001b[0m\u001b[1;31m:\u001b[0m unmatched ')'\n"
     ]
    }
   ],
   "source": [
    "#Create a function to determine capital level in steady state given a set of parameters\n",
    "ss_func = sm.lambdify((alpha,tau,rho,A),ssk_solve)\n",
    "\n",
    "\n"
   ]
  },
  {
   "cell_type": "code",
   "execution_count": 18,
   "metadata": {},
   "outputs": [
    {
     "output_type": "stream",
     "name": "stdout",
     "text": [
      "The steady state in the pay as you go model is:\n"
     ]
    },
    {
     "output_type": "execute_result",
     "data": {
      "text/plain": [
       "0.2638061168681807"
      ]
     },
     "metadata": {},
     "execution_count": 18
    }
   ],
   "source": [
    "def ss_alt(alpha, tau, rho, A):\n",
    "    return((((A*(1-alpha)*(1-tau)))/(1+(tau*(1-alpha)*(rho+1))/(alpha*(rho+2))*(rho+2)))**(1/(1-alpha)))\n",
    "print(f'The steady state in the pay as you go model is:')\n",
    "ss_alt(1/4, 0.2, 0.05, 1)\n"
   ]
  },
  {
   "cell_type": "code",
   "execution_count": 474,
   "metadata": {},
   "outputs": [
    {
     "output_type": "error",
     "ename": "SympifyError",
     "evalue": "SympifyError: [0.010509129538683937]",
     "traceback": [
      "\u001b[1;31m---------------------------------------------------------------------------\u001b[0m",
      "\u001b[1;31mSympifyError\u001b[0m                              Traceback (most recent call last)",
      "\u001b[1;32m<ipython-input-474-55f663720a7e>\u001b[0m in \u001b[0;36m<module>\u001b[1;34m\u001b[0m\n\u001b[0;32m      8\u001b[0m \u001b[0mres\u001b[0m\u001b[1;33m=\u001b[0m\u001b[0mss_func\u001b[0m\u001b[1;33m(\u001b[0m\u001b[0mvalue_alpha\u001b[0m\u001b[1;33m,\u001b[0m\u001b[0mvalue_tau\u001b[0m\u001b[1;33m,\u001b[0m\u001b[0mvalue_rho\u001b[0m\u001b[1;33m,\u001b[0m\u001b[0mvalue_A\u001b[0m\u001b[1;33m)\u001b[0m\u001b[1;33m\u001b[0m\u001b[1;33m\u001b[0m\u001b[0m\n\u001b[0;32m      9\u001b[0m \u001b[1;33m\u001b[0m\u001b[0m\n\u001b[1;32m---> 10\u001b[1;33m \u001b[0mdisplay\u001b[0m\u001b[1;33m(\u001b[0m\u001b[0msm\u001b[0m\u001b[1;33m.\u001b[0m\u001b[0mEq\u001b[0m\u001b[1;33m(\u001b[0m\u001b[0mk\u001b[0m\u001b[1;33m,\u001b[0m\u001b[0mres\u001b[0m\u001b[1;33m)\u001b[0m\u001b[1;33m)\u001b[0m\u001b[1;33m\u001b[0m\u001b[1;33m\u001b[0m\u001b[0m\n\u001b[0m",
      "\u001b[1;32m~\\anaconda3\\lib\\site-packages\\sympy\\core\\relational.py\u001b[0m in \u001b[0;36m__new__\u001b[1;34m(cls, lhs, rhs, **options)\u001b[0m\n\u001b[0;32m    499\u001b[0m         \u001b[0mevaluate\u001b[0m \u001b[1;33m=\u001b[0m \u001b[0moptions\u001b[0m\u001b[1;33m.\u001b[0m\u001b[0mpop\u001b[0m\u001b[1;33m(\u001b[0m\u001b[1;34m'evaluate'\u001b[0m\u001b[1;33m,\u001b[0m \u001b[0mglobal_parameters\u001b[0m\u001b[1;33m.\u001b[0m\u001b[0mevaluate\u001b[0m\u001b[1;33m)\u001b[0m\u001b[1;33m\u001b[0m\u001b[1;33m\u001b[0m\u001b[0m\n\u001b[0;32m    500\u001b[0m         \u001b[0mlhs\u001b[0m \u001b[1;33m=\u001b[0m \u001b[0m_sympify\u001b[0m\u001b[1;33m(\u001b[0m\u001b[0mlhs\u001b[0m\u001b[1;33m)\u001b[0m\u001b[1;33m\u001b[0m\u001b[1;33m\u001b[0m\u001b[0m\n\u001b[1;32m--> 501\u001b[1;33m         \u001b[0mrhs\u001b[0m \u001b[1;33m=\u001b[0m \u001b[0m_sympify\u001b[0m\u001b[1;33m(\u001b[0m\u001b[0mrhs\u001b[0m\u001b[1;33m)\u001b[0m\u001b[1;33m\u001b[0m\u001b[1;33m\u001b[0m\u001b[0m\n\u001b[0m\u001b[0;32m    502\u001b[0m         \u001b[1;32mif\u001b[0m \u001b[0mevaluate\u001b[0m\u001b[1;33m:\u001b[0m\u001b[1;33m\u001b[0m\u001b[1;33m\u001b[0m\u001b[0m\n\u001b[0;32m    503\u001b[0m             \u001b[0mval\u001b[0m \u001b[1;33m=\u001b[0m \u001b[0mis_eq\u001b[0m\u001b[1;33m(\u001b[0m\u001b[0mlhs\u001b[0m\u001b[1;33m,\u001b[0m \u001b[0mrhs\u001b[0m\u001b[1;33m)\u001b[0m\u001b[1;33m\u001b[0m\u001b[1;33m\u001b[0m\u001b[0m\n",
      "\u001b[1;32m~\\anaconda3\\lib\\site-packages\\sympy\\core\\sympify.py\u001b[0m in \u001b[0;36m_sympify\u001b[1;34m(a)\u001b[0m\n\u001b[0;32m    511\u001b[0m \u001b[1;33m\u001b[0m\u001b[0m\n\u001b[0;32m    512\u001b[0m     \"\"\"\n\u001b[1;32m--> 513\u001b[1;33m     \u001b[1;32mreturn\u001b[0m \u001b[0msympify\u001b[0m\u001b[1;33m(\u001b[0m\u001b[0ma\u001b[0m\u001b[1;33m,\u001b[0m \u001b[0mstrict\u001b[0m\u001b[1;33m=\u001b[0m\u001b[1;32mTrue\u001b[0m\u001b[1;33m)\u001b[0m\u001b[1;33m\u001b[0m\u001b[1;33m\u001b[0m\u001b[0m\n\u001b[0m\u001b[0;32m    514\u001b[0m \u001b[1;33m\u001b[0m\u001b[0m\n\u001b[0;32m    515\u001b[0m \u001b[1;33m\u001b[0m\u001b[0m\n",
      "\u001b[1;32m~\\anaconda3\\lib\\site-packages\\sympy\\core\\sympify.py\u001b[0m in \u001b[0;36msympify\u001b[1;34m(a, locals, convert_xor, strict, rational, evaluate)\u001b[0m\n\u001b[0;32m    432\u001b[0m \u001b[1;33m\u001b[0m\u001b[0m\n\u001b[0;32m    433\u001b[0m     \u001b[1;32mif\u001b[0m \u001b[0mstrict\u001b[0m\u001b[1;33m:\u001b[0m\u001b[1;33m\u001b[0m\u001b[1;33m\u001b[0m\u001b[0m\n\u001b[1;32m--> 434\u001b[1;33m         \u001b[1;32mraise\u001b[0m \u001b[0mSympifyError\u001b[0m\u001b[1;33m(\u001b[0m\u001b[0ma\u001b[0m\u001b[1;33m)\u001b[0m\u001b[1;33m\u001b[0m\u001b[1;33m\u001b[0m\u001b[0m\n\u001b[0m\u001b[0;32m    435\u001b[0m \u001b[1;33m\u001b[0m\u001b[0m\n\u001b[0;32m    436\u001b[0m     \u001b[1;32mif\u001b[0m \u001b[0miterable\u001b[0m\u001b[1;33m(\u001b[0m\u001b[0ma\u001b[0m\u001b[1;33m)\u001b[0m\u001b[1;33m:\u001b[0m\u001b[1;33m\u001b[0m\u001b[1;33m\u001b[0m\u001b[0m\n",
      "\u001b[1;31mSympifyError\u001b[0m: SympifyError: [0.010509129538683937]"
     ]
    }
   ],
   "source": [
    "# Assign arbitrary values to the parameters\n",
    "value_alpha = 1/4\n",
    "value_tau = 0.8\n",
    "value_rho = 0.05\n",
    "value_A = 1\n",
    "\n",
    "#Run the function with the values\n",
    "res=ss_func(value_alpha,value_tau,value_rho,value_A)\n",
    "\n",
    "#Display results\n",
    "display(sm.Eq(k,res))"
   ]
  },
  {
   "source": [
    "We caanot get this to work the way we want to using simpy, so we will have to do it manually."
   ],
   "cell_type": "markdown",
   "metadata": {}
  }
 ],
 "metadata": {
  "kernelspec": {
   "name": "python385jvsc74a57bd08228d92a807917af1267edf657ebc10d82f8d40b7099bf2c7ca8a43d7c69ad4d",
   "display_name": "Python 3.8.5 64-bit ('base': conda)"
  },
  "language_info": {
   "codemirror_mode": {
    "name": "ipython",
    "version": 3
   },
   "file_extension": ".py",
   "mimetype": "text/x-python",
   "name": "python",
   "nbconvert_exporter": "python",
   "pygments_lexer": "ipython3",
   "version": "3.8.5"
  },
  "toc-autonumbering": true
 },
 "nbformat": 4,
 "nbformat_minor": 4
}